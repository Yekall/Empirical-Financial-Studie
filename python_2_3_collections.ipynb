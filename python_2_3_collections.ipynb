{
 "cells": [
  {
   "cell_type": "markdown",
   "metadata": {
    "id": "Hu-DQLCysvHt",
    "pycharm": {
     "name": "#%% md\n"
    }
   },
   "source": [
    "# II-3. Cours Python : Les collections\n",
    "> Python - Chapter2 - LESSON 3.\n",
    "\n",
    "- toc: false \n",
    "- badges: true\n",
    "- comments: false\n",
    "- categories: [Python-Novice, Python-Collections]\n",
    "- layout: post\n",
    "- permalink: /python/chapter/2/lesson/3/\n",
    "\n",
    "-Python\n",
    "    -Les collections\n",
    "        -lesson = Les collections"
   ]
  },
  {
   "cell_type": "markdown",
   "metadata": {
    "id": "DPLBXxkSsvH0",
    "pycharm": {
     "name": "#%% md\n"
    }
   },
   "source": [
    "Nous avons déjà rencontré quelques types Python simples comme les nombres (`int`, `float`), les strings (`str`) et les booléens (`bool`). Nous allons maintenant voir comment regrouper plusieurs valeurs dans une collection, comme une liste de nombres ou un dictionnaire que nous pouvons utiliser pour stocker et récupérer des paires clé-valeur. De nombreuses collections utiles sont des types intégrés dans Python, et nous les rencontrerons assez souvent.\n",
    "\n",
    "## 1. Les listes (`list`)\n",
    "\n",
    "\n",
    "Le type de liste en Python est appelé `list`. Nous pouvons l'utiliser pour stocker plusieurs valeurs et y accéder séquentiellement ou par leur position (leur index). Les listes sont définis avec un ensemble de valeurs séparées par des virgules entre crochets (`[` et `]`) :"
   ]
  },
  {
   "cell_type": "code",
   "execution_count": 1,
   "metadata": {
    "pycharm": {
     "name": "#%%\n"
    }
   },
   "outputs": [
    {
     "name": "stdout",
     "output_type": "stream",
     "text": [
      "<class 'list'>\n"
     ]
    }
   ],
   "source": [
    "\n",
    "\n",
    "# une liste vide\n",
    "my_list = []\n",
    "print(type(my_list))"
   ]
  },
  {
   "cell_type": "code",
   "execution_count": 2,
   "metadata": {
    "pycharm": {
     "name": "#%%\n"
    }
   },
   "outputs": [],
   "source": [
    "one_variable = 2\n",
    "another_variable = \"4 strings\"\n",
    "third_variable = 3.9\n",
    "# une liste de variables définies ailleurs dans le code\n",
    "things = [\n",
    "    one_variable,\n",
    "    another_variable,\n",
    "    third_variable, # Cette virgule peut être utilisée en Python 3\n",
    "]"
   ]
  },
  {
   "cell_type": "code",
   "execution_count": 3,
   "metadata": {
    "pycharm": {
     "name": "#%%\n"
    }
   },
   "outputs": [
    {
     "name": "stdout",
     "output_type": "stream",
     "text": [
      "[2, '4 strings', 3.9]\n"
     ]
    }
   ],
   "source": [
    "\n",
    "print(things)"
   ]
  },
  {
   "cell_type": "markdown",
   "metadata": {
    "pycharm": {
     "name": "#%% md\n"
    }
   },
   "source": [
    "Comme vous pouvez le voir, nous avons utilisé des noms au pluriel pour nommer la plupart de nos variables de liste. Il s'agit d'une convention courante et il est utile de la suivre dans la plupart des cas.\n",
    "\n",
    "Pour accéder à un élément de la liste, nous utilisons l'identifiant de la liste suivi de l'index entre crochets. Les index sont des entiers qui commencent à zéro :"
   ]
  },
  {
   "cell_type": "code",
   "execution_count": 4,
   "metadata": {
    "pycharm": {
     "name": "#%%\n"
    }
   },
   "outputs": [
    {
     "ename": "NameError",
     "evalue": "name 'animals' is not defined",
     "output_type": "error",
     "traceback": [
      "\u001B[1;31m---------------------------------------------------------------------------\u001B[0m",
      "\u001B[1;31mNameError\u001B[0m                                 Traceback (most recent call last)",
      "Input \u001B[1;32mIn [4]\u001B[0m, in \u001B[0;36m<cell line: 1>\u001B[1;34m()\u001B[0m\n\u001B[1;32m----> 1\u001B[0m \u001B[38;5;28mprint\u001B[39m(\u001B[43manimals\u001B[49m[\u001B[38;5;241m0\u001B[39m]) \u001B[38;5;66;03m# cat\u001B[39;00m\n\u001B[0;32m      2\u001B[0m \u001B[38;5;28mprint\u001B[39m(numbers[\u001B[38;5;241m1\u001B[39m])\n",
      "\u001B[1;31mNameError\u001B[0m: name 'animals' is not defined"
     ]
    }
   ],
   "source": [
    "print(animals[0]) # cat\n",
    "print(numbers[1]) # 7\n",
    "\n"
   ]
  },
  {
   "cell_type": "code",
   "execution_count": null,
   "metadata": {
    "pycharm": {
     "name": "#%%\n"
    }
   },
   "outputs": [],
   "source": [
    "# Ceci va nous donner une erreur,puisque la liste contient uniquement 4 elements\n",
    "print(animals[6])"
   ]
  },
  {
   "cell_type": "markdown",
   "metadata": {
    "pycharm": {
     "name": "#%% md\n"
    }
   },
   "source": [
    "On peut aussi retrouver des éléments en partant de la fin :"
   ]
  },
  {
   "cell_type": "code",
   "execution_count": null,
   "metadata": {
    "pycharm": {
     "name": "#%%\n"
    }
   },
   "outputs": [],
   "source": [
    "print(animals[-1]) # Le dernier élément de la liste\n",
    "print(numbers[-2]) # L'avant dernier élément de la liste"
   ]
  },
  {
   "cell_type": "markdown",
   "metadata": {
    "pycharm": {
     "name": "#%% md\n"
    }
   },
   "source": [
    "Nous pouvons aussi extraire un sous-ensemble d'une liste (qui sera elle-même une liste) à l'aide d'un `slice`. Cela utilise presque la même syntaxe que pour accéder à un seul élément, mais au lieu de spécifier un seul index entre les crochets, nous devons spécifier une limite supérieure et inférieure. Notez que notre sous-liste inclura l'élément à la limite inférieure, mais exclura l'élément à la limite supérieure :"
   ]
  },
  {
   "cell_type": "code",
   "execution_count": null,
   "metadata": {
    "pycharm": {
     "name": "#%%\n"
    }
   },
   "outputs": [],
   "source": [
    "# une liste de strings\n",
    "animals = ['cat', 'dog', 'fish', 'bison', 'lion']\n",
    "\n",
    "# une liste d'entiers\n",
    "numbers = [1, 7, 34, 20, 12]"
   ]
  },
  {
   "cell_type": "code",
   "execution_count": null,
   "metadata": {
    "pycharm": {
     "name": "#%%\n"
    }
   },
   "outputs": [],
   "source": [
    "print(animals[1:4]) # ['dog', 'fish'["
   ]
  },
  {
   "cell_type": "code",
   "execution_count": null,
   "metadata": {
    "pycharm": {
     "name": "#%%\n"
    }
   },
   "outputs": [],
   "source": [
    "print(animals[1:-1]) # ['dog', 'fish']"
   ]
  },
  {
   "cell_type": "markdown",
   "metadata": {
    "pycharm": {
     "name": "#%% md\n"
    }
   },
   "source": [
    "Si l'une des limites est l'une des extrémités de la liste, nous pouvons la laisser de côté."
   ]
  },
  {
   "cell_type": "code",
   "execution_count": null,
   "metadata": {
    "pycharm": {
     "name": "#%%\n"
    }
   },
   "outputs": [],
   "source": [
    "print(animals[2:]) # ['fish', 'bison']"
   ]
  },
  {
   "cell_type": "code",
   "execution_count": null,
   "metadata": {
    "pycharm": {
     "name": "#%%\n"
    }
   },
   "outputs": [],
   "source": [
    "\n",
    "print(animals[-:]) # ['cat', 'dog']\n",
    "print(animals[:]) # Une copie de la liste entière"
   ]
  },
  {
   "cell_type": "markdown",
   "metadata": {
    "pycharm": {
     "name": "#%% md\n"
    }
   },
   "source": [
    "Nous pouvons même inclure un troisième paramètre pour spécifier la taille du pas :"
   ]
  },
  {
   "cell_type": "code",
   "execution_count": null,
   "metadata": {
    "pycharm": {
     "name": "#%%\n"
    }
   },
   "outputs": [],
   "source": [
    "\n",
    "print(animals[::3]) # ['cat', 'fish']"
   ]
  },
  {
   "cell_type": "markdown",
   "metadata": {
    "pycharm": {
     "name": "#%% md\n"
    }
   },
   "source": [
    "Les listes sont mutables, nous pouvons modifier des éléments, en ajouter ou en supprimer. Une liste changera de taille automatiquement lorsque nous ajoutons ou supprimons des éléments :"
   ]
  },
  {
   "cell_type": "code",
   "execution_count": null,
   "metadata": {
    "pycharm": {
     "name": "#%%\n"
    }
   },
   "outputs": [],
   "source": [
    "print(type(animals))"
   ]
  },
  {
   "cell_type": "code",
   "execution_count": null,
   "metadata": {
    "pycharm": {
     "name": "#%%\n"
    }
   },
   "outputs": [],
   "source": [
    "print(animals)\n",
    "# Assigner une nouvelle valeur à un élément de la liste\n",
    "animals[3] = \"hamster\"\n",
    "\n",
    "# Ajout d'un élément à la fin de la liste\n",
    "animals.append(\"squirrel\")\n",
    "\n",
    "# Suppression d'un élément de la liste\n",
    "del animals[2]\n",
    "print(animals)\n"
   ]
  },
  {
   "cell_type": "markdown",
   "metadata": {
    "pycharm": {
     "name": "#%% md\n"
    }
   },
   "source": [
    "Comme les `list` sont mutables, nous pouvons modifier une variable d'une `list` sans lui affecter une valeur complètement nouvelle. N'oubliez pas que si nous attribuons la même valeur de `list` à deux variables, toute modification faite à l'une des deux variables sera refleté sur l'autre :"
   ]
  },
  {
   "cell_type": "code",
   "execution_count": null,
   "metadata": {
    "pycharm": {
     "name": "#%%\n"
    }
   },
   "outputs": [],
   "source": [
    "animals = ['cat', 'dog', 'goldfish', 'canary']\n",
    "pets = animals # Les deux variables référencent la même liste\n",
    "\n",
    "animals.append('aardvark')\n",
    "print(pets) # pets est toujours la même liste que animals\n",
    "\n",
    "animals = ['rat', 'gerbil', 'hamster'] # Affectation d'un nouvelle liste de valeurs à animals\n",
    "print(pets) # pets référence toujours l'ancienne liste\n",
    "\n",
    "pets = animals[:] # affectation par *copy* des valeurs de la liste à pets\n",
    "animals.append('aardvark')\n",
    "print(pets) # pets contient toujours les mêmes valeurs affectées initialement"
   ]
  },
  {
   "cell_type": "markdown",
   "metadata": {
    "pycharm": {
     "name": "#%% md\n"
    }
   },
   "source": [
    "Executez ce code sur pythontutor.com et regardez l'allocation de mémoire effectuée par l'interpréteur"
   ]
  },
  {
   "cell_type": "markdown",
   "metadata": {
    "pycharm": {
     "name": "#%% md\n"
    }
   },
   "source": [
    "On peut mélanger les types de valeurs que l'on stocke dans une liste :"
   ]
  },
  {
   "cell_type": "code",
   "execution_count": null,
   "metadata": {
    "pycharm": {
     "name": "#%%\n"
    }
   },
   "outputs": [],
   "source": [
    "my_list = ['cat', 12, 35.8]"
   ]
  },
  {
   "cell_type": "markdown",
   "metadata": {
    "pycharm": {
     "name": "#%% md\n"
    }
   },
   "source": [
    "Comment vérifier si une liste contient une valeur particulière ? Nous utilisons les opérateurs `in` ou `not in` : "
   ]
  },
  {
   "cell_type": "code",
   "execution_count": null,
   "metadata": {
    "pycharm": {
     "name": "#%%\n"
    }
   },
   "outputs": [],
   "source": [
    "numbers = [34, 67, 12, 29]\n",
    "number = 57\n",
    "\n",
    "if number not in numbers:\n",
    "    print(\"%d is not in the list!\" % number)\n",
    "\n",
    "number = 90\n",
    "if number not in numbers:\n",
    "    print(\"%d is not in the list!\" % number)\n"
   ]
  },
  {
   "cell_type": "markdown",
   "metadata": {
    "pycharm": {
     "name": "#%% md\n"
    }
   },
   "source": [
    "### Les fonctions des listes\n",
    "\n",
    "\n",
    "Il existe des fonctions `built-in` que nous pouvons utiliser sur les listes et autres séquences :"
   ]
  },
  {
   "cell_type": "code",
   "execution_count": null,
   "metadata": {
    "pycharm": {
     "name": "#%%\n"
    }
   },
   "outputs": [],
   "source": [
    "# la taille d'une liste\n",
    "len(animals)\n",
    "\n",
    "# la somme d'une liste d'entiers\n",
    "sum(numbers)\n",
    "\n",
    "# Est ce qu'une des valeurs de la liste est True ?\n",
    "any([1,0,1,0,1])\n",
    "\n",
    "# Est ce que TOUTES les valeurs de la liste sont True ?\n",
    "all([1,0,1,0,1])"
   ]
  },
  {
   "cell_type": "code",
   "execution_count": null,
   "metadata": {
    "pycharm": {
     "name": "#%%\n"
    }
   },
   "outputs": [],
   "source": [
    "# Est ce qu'une des valeurs de la liste est True ?\n",
    "print(any([1,0,1,0,1]))\n",
    "\n",
    "# Est ce que TOUTES les valeurs de la liste sont True ?\n",
    "print(all([1,\"True\",1,0,1]))"
   ]
  },
  {
   "cell_type": "code",
   "execution_count": null,
   "metadata": {
    "pycharm": {
     "name": "#%%\n"
    }
   },
   "outputs": [],
   "source": [
    "print(numbers)\n",
    "print(sum(numbers))"
   ]
  },
  {
   "cell_type": "code",
   "execution_count": null,
   "metadata": {
    "pycharm": {
     "name": "#%%\n"
    }
   },
   "outputs": [],
   "source": [
    "nums = [1, \"1\", 1]\n",
    "print(sum(nums))"
   ]
  },
  {
   "cell_type": "markdown",
   "metadata": {
    "pycharm": {
     "name": "#%% md\n"
    }
   },
   "source": [
    "L'objet `list` possède lui aussi de nombreuses fonctions utiles :"
   ]
  },
  {
   "cell_type": "code",
   "execution_count": null,
   "metadata": {
    "pycharm": {
     "name": "#%%\n"
    }
   },
   "outputs": [],
   "source": [
    "numbers = [1, 2, 3, 4, 5, 5]\n",
    "\n",
    "\n",
    "# Compter le nombre d'éléments dans la liste\n",
    "print(numbers.count(5))"
   ]
  },
  {
   "cell_type": "code",
   "execution_count": null,
   "metadata": {
    "pycharm": {
     "name": "#%%\n"
    }
   },
   "outputs": [],
   "source": [
    "animals"
   ]
  },
  {
   "cell_type": "code",
   "execution_count": null,
   "metadata": {
    "pycharm": {
     "name": "#%%\n"
    }
   },
   "outputs": [],
   "source": [
    "animals.index('fisfffh')"
   ]
  },
  {
   "cell_type": "code",
   "execution_count": null,
   "metadata": {
    "pycharm": {
     "name": "#%%\n"
    }
   },
   "outputs": [],
   "source": [
    "print(numbers)\n",
    "a = numbers.pop(0)\n",
    "print(numbers)\n",
    "print(a)"
   ]
  },
  {
   "cell_type": "code",
   "execution_count": null,
   "metadata": {
    "pycharm": {
     "name": "#%%\n"
    }
   },
   "outputs": [],
   "source": [
    "\n",
    "# ajouter plusieurs valeurs (en une fois) à la fin\n",
    "numbers.extend([56, 2, 12])\n",
    "\n",
    "# Trouver l'index d'une valeur de la liste\n",
    "numbers.index(3)\n",
    "# Si la valeur est présente plusieurs fois, on obtient le premier index\n",
    "numbers.index(2)\n",
    "# Si la valeur n'est pas présente dans la liste, l'erreur ValueError est retournée !\n",
    "numbers.index(42)\n",
    "\n",
    "# insertion d'une valeur à un index donné\n",
    "numbers.insert(0, 45) \n",
    "\n",
    "# supprimer un élément de la liste\n",
    "my_number = numbers.pop(0)\n",
    "\n",
    "# supprimer un élément de la liste en spécifiant sa valeur\n",
    "numbers.remove(12)\n",
    "# Si la valeur est présente plsuieurs fois, Seulement la première occurance est supprimée\n",
    "numbers.remove(5)"
   ]
  },
  {
   "cell_type": "markdown",
   "metadata": {
    "pycharm": {
     "name": "#%% md\n"
    }
   },
   "source": [
    "Nous pouvons aussi trier les listes de plusieurs façons :"
   ]
  },
  {
   "cell_type": "code",
   "execution_count": null,
   "metadata": {
    "pycharm": {
     "name": "#%%\n"
    }
   },
   "outputs": [],
   "source": [
    "numbers = [3, 2, 4, 1]\n",
    "\n",
    "# Ces fonctions retournes une copie modifiéee\n",
    "print(sorted(numbers))\n",
    "print(list(reversed(numbers)))\n",
    "\n",
    "# La première liste reste inchangée\n",
    "print(numbers)\n",
    "\n",
    "# Modification sur place\n",
    "numbers.sort()\n",
    "numbers.reverse()\n",
    "\n",
    "print(numbers)"
   ]
  },
  {
   "cell_type": "code",
   "execution_count": null,
   "metadata": {
    "pycharm": {
     "name": "#%%\n"
    }
   },
   "outputs": [],
   "source": [
    "numbers = [3, 2, 4, 1]\n",
    "list(reversed(sorted(numbers)))"
   ]
  },
  {
   "cell_type": "markdown",
   "metadata": {
    "pycharm": {
     "name": "#%% md\n"
    }
   },
   "source": [
    "### Les opérateurs arithmétiques\n",
    "\n",
    "Nous pouvons combiner des listes et les étendre grace aux opérateurs arithmétiques `+` et `*` :"
   ]
  },
  {
   "cell_type": "code",
   "execution_count": null,
   "metadata": {
    "pycharm": {
     "name": "#%%\n"
    }
   },
   "outputs": [],
   "source": [
    "print([1, 2, 3] - [2, 3])"
   ]
  },
  {
   "cell_type": "code",
   "execution_count": null,
   "metadata": {
    "pycharm": {
     "name": "#%%\n"
    }
   },
   "outputs": [],
   "source": [
    "# Concaténation de deux listes\n",
    "print([1, 2, 3] + [4, 5, 6])\n",
    "\n",
    "# on peut concaténer une liste avec elle-même en la multipliant par un entier (Pythonic style)\n",
    "print([1, 2, 3] * 3)\n",
    "\n",
    "# tous les opérateurs arithmétiques ne peuvent pas être utilisés sur les listes -- cette instruction nous donnera une erreur !\n",
    "print([1, 2, 3] - [2, 3])"
   ]
  },
  {
   "cell_type": "markdown",
   "metadata": {
    "pycharm": {
     "name": "#%% md\n"
    }
   },
   "source": [
    "## 2. Les tuples (`tuple`)\n",
    "\n",
    "Python a un autre type de séquence appelé `tuple`. Les tuples sont similaires aux listes, mais ils sont immuables. Les tuples sont définis avec un ensemble de valeurs séparées par des virgules entre parenthèses (`(` et `)`) :"
   ]
  },
  {
   "cell_type": "code",
   "execution_count": null,
   "metadata": {
    "pycharm": {
     "name": "#%%\n"
    }
   },
   "outputs": [],
   "source": [
    "WEEKDAYS = ('Monday', 'Tuesday', 'Wednesday', 'Thursday', 'Friday', 'Saturday', 'Sunday')"
   ]
  },
  {
   "cell_type": "markdown",
   "metadata": {
    "pycharm": {
     "name": "#%% md\n"
    }
   },
   "source": [
    "Nous pouvons utiliser des tuples de la même manière que nous utilisons des listes, sauf que nous ne pouvons pas les modifier :"
   ]
  },
  {
   "cell_type": "code",
   "execution_count": null,
   "metadata": {
    "pycharm": {
     "name": "#%%\n"
    }
   },
   "outputs": [],
   "source": [
    "animals = ('cat', 'dog', 'fish')\n",
    "\n",
    "# an empty tuple\n",
    "my_tuple = ()\n",
    "\n",
    "# we can access a single element\n",
    "print(animals[0])\n",
    "\n",
    "# we can get a slice\n",
    "print(animals[1:]) # note that our slice will be a new tuple, not a list\n",
    "\n",
    "# we can count values or look up an index\n",
    "animals.count('cat')\n",
    "animals.index('cat')\n",
    "\n",
    "# ... but this is not allowed:\n",
    "animals.append('canary')\n",
    "animal[1] = 'gerbil'"
   ]
  },
  {
   "cell_type": "markdown",
   "metadata": {
    "pycharm": {
     "name": "#%% md\n"
    }
   },
   "source": [
    "A quoi servent les tuples ? Nous pouvons les utiliser pour créer une séquence de valeurs que nous ne voulons pas modifier."
   ]
  },
  {
   "cell_type": "markdown",
   "metadata": {
    "pycharm": {
     "name": "#%% md\n"
    }
   },
   "source": [
    "## 3. Les sets (`set`)\n",
    "\n",
    "\n",
    "Il existe encore un autre type de séquence appelé `set`. Un `set` est une collection d'éléments uniques. Si nous ajoutons plusieurs copies du même élément à un `set`, les doublons seront éliminés et il nous restera un de chaque élément. Les sets sont définis avec un ensemble de valeurs séparées par des virgules entre accolades (`{` et `}`) :"
   ]
  },
  {
   "cell_type": "code",
   "execution_count": null,
   "metadata": {
    "pycharm": {
     "name": "#%%\n"
    }
   },
   "outputs": [],
   "source": [
    "animals = {'cat', 'dog', 'goldfish', 'canary', 'cat'}\n",
    "print(animals) # Ce set contient un seul élément 'cat'"
   ]
  },
  {
   "cell_type": "markdown",
   "metadata": {
    "pycharm": {
     "name": "#%% md\n"
    }
   },
   "source": [
    "Nous pouvons faire plusieurs opérations sur les sets :"
   ]
  },
  {
   "cell_type": "code",
   "execution_count": null,
   "metadata": {
    "pycharm": {
     "name": "#%%\n"
    }
   },
   "outputs": [],
   "source": [
    "even_numbers = {2, 4, 6, 8, 10}\n",
    "big_numbers = {6, 7, 8, 9, 10}\n",
    "\n",
    "# soustraction\n",
    "print(big_numbers - even_numbers)\n",
    "\n",
    "# union\n",
    "print(big_numbers | even_numbers)\n",
    "\n",
    "# intersection\n",
    "print(big_numbers & even_numbers)\n",
    "\n",
    "# numbers which are big or even but not both\n",
    "print(big_numbers ^ even_numbers)"
   ]
  },
  {
   "cell_type": "code",
   "execution_count": null,
   "metadata": {
    "pycharm": {
     "name": "#%%\n"
    }
   },
   "outputs": [],
   "source": [
    "print(big_numbers, even_numbers)\n",
    "print(big_numbers ^ even_numbers)"
   ]
  },
  {
   "cell_type": "markdown",
   "metadata": {
    "pycharm": {
     "name": "#%% md\n"
    }
   },
   "source": [
    "Il est important de noter que contrairement aux listes et aux tuples, les sets ne sont pas ordonnés. Lorsque nous affichons un ensemble, l'ordre des éléments sera aléatoire. Nous pouvons toujours l'ordoner si besoin (cependant la fonction `sorted` nous renverra une liste):"
   ]
  },
  {
   "cell_type": "code",
   "execution_count": null,
   "metadata": {
    "pycharm": {
     "name": "#%%\n"
    }
   },
   "outputs": [],
   "source": [
    "print(animals)\n",
    "print(sorted(animals))"
   ]
  },
  {
   "cell_type": "markdown",
   "metadata": {
    "pycharm": {
     "name": "#%% md\n"
    }
   },
   "source": [
    "Comment fait-on pour déclarer un `set` vide ? Nous devons utiliser la fonction `set`. Les dictionnaires, dont nous parlerons dans la section suivante, utilisaient des accolades avant que les ensembles ne les adoptent, donc un ensemble vide d'accolades est en fait un dictionnaire vide :"
   ]
  },
  {
   "cell_type": "code",
   "execution_count": null,
   "metadata": {
    "pycharm": {
     "name": "#%%\n"
    }
   },
   "outputs": [],
   "source": [
    "# dictionnaire vide\n",
    "a = {}\n",
    "l = []\n",
    "t = ()\n",
    "# set vide\n",
    "\n",
    "b = set()"
   ]
  },
  {
   "cell_type": "markdown",
   "metadata": {
    "pycharm": {
     "name": "#%% md\n"
    }
   },
   "source": [
    "## 4. Les  `range`\n",
    "\n",
    "Nous pouvons générer une séquence d'entier (appelé `range`) grace à la fonction `built-in` : `range`. Les `range` sont des générateurs, nous verrons ces derniers en détail dans la prochaine partie. Pour l'instant, nous avons juste besoin de savoir que les nombres de la plage sont générés un à un, et pas tous à la fois.\n",
    " \n",
    "Dans les exemples ci-dessous, nous convertissons chaque `range` en `list` afin que tous les nombres soient générés et que nous puissions les afficher"
   ]
  },
  {
   "cell_type": "code",
   "execution_count": null,
   "metadata": {
    "pycharm": {
     "name": "#%%\n"
    }
   },
   "outputs": [],
   "source": [
    "print(list(range(1,10, 2)))"
   ]
  },
  {
   "cell_type": "code",
   "execution_count": null,
   "metadata": {
    "pycharm": {
     "name": "#%%\n"
    }
   },
   "outputs": [],
   "source": [
    "# affiche des entiers de 0 à 9\n",
    "print(list(range(10)))\n",
    "\n",
    "# affiche des entiers de 1 to 10\n",
    "print(list(range(1, 11)))\n",
    "\n",
    "# affiche les entiers impairs entre 1 et 10\n",
    "print(list(range(1, 11, 2)))"
   ]
  },
  {
   "cell_type": "markdown",
   "metadata": {
    "pycharm": {
     "name": "#%% md\n"
    }
   },
   "source": [
    "Comme vous pouvez le voir, si nous passons un seul paramètre à la fonction range, il est utilisé comme borne supérieure. Si nous utilisons deux paramètres, le premier est la borne inférieure et le second est la borne supérieure. Si nous en utilisons trois, le troisième paramètre est la taille du pas. La limite inférieure par défaut est zéro et la taille de pas par défaut est un. Notez que la plage inclut la limite inférieure et exclut la limite supérieure."
   ]
  },
  {
   "cell_type": "markdown",
   "metadata": {
    "pycharm": {
     "name": "#%% md\n"
    }
   },
   "source": [
    "## 5. Les dictionnaires `dict`\n",
    "\n",
    "Le type de dictionnaire Python est appelé `dict`. Nous pouvons utiliser un dictionnaire pour stocker des paires clé-valeur. Les `dict` sont définis avec un ensemble de paires clé-valeur séparées par des virgules entre des accolades (`{` et `}`). Nous utilisons deux points pour séparer chaque clé de sa valeur. Nous accédons aux valeurs du dictionnaire de la même manière que les éléments de liste ou de tuple, mais nous utilisons des clés au lieu d'indices :"
   ]
  },
  {
   "cell_type": "code",
   "execution_count": null,
   "metadata": {
    "pycharm": {
     "name": "#%%\n"
    }
   },
   "outputs": [],
   "source": [
    "marbles = {\"red\": 34, \"green\": \"string\", \"brown\": 31, \"yellow\": 29}\n"
   ]
  },
  {
   "cell_type": "code",
   "execution_count": null,
   "metadata": {
    "pycharm": {
     "name": "#%%\n"
    }
   },
   "outputs": [],
   "source": [
    "print(marbles[\"greenn\"])"
   ]
  },
  {
   "cell_type": "code",
   "execution_count": null,
   "metadata": {
    "pycharm": {
     "name": "#%%\n"
    }
   },
   "outputs": [],
   "source": [
    "marbles[\"brown\"] = \"test\""
   ]
  },
  {
   "cell_type": "code",
   "execution_count": null,
   "metadata": {
    "pycharm": {
     "name": "#%%\n"
    }
   },
   "outputs": [],
   "source": [
    "print(marbles)"
   ]
  },
  {
   "cell_type": "code",
   "execution_count": null,
   "metadata": {
    "pycharm": {
     "name": "#%%\n"
    }
   },
   "outputs": [],
   "source": [
    "marbles = {\"red\": 34, \"green\": 30, \"brown\": 31, \"yellow\": 29 }\n",
    "\n",
    "personal_details = {\n",
    "    \"name\": \"Jane Doe\",\n",
    "    \"age\": 38,\n",
    "}\n",
    "\n",
    "\n",
    "print(personal_details[\"name\"])\n",
    "\n",
    "# Erreur de clé\n",
    "print(marbles[\"blue\"])\n",
    "\n",
    "# Modification ou création de valeur\n",
    "marbles[\"red\"] += 3\n",
    "personal_details[\"name\"] = \"Jane Q. Doe\""
   ]
  },
  {
   "cell_type": "markdown",
   "metadata": {
    "pycharm": {
     "name": "#%% md\n"
    }
   },
   "source": [
    "Les clés d'un dictionnaire n'ont pas besoin d'être des `string`, elles peuvent être de n'importe quel type immuable, y compris des nombres et même des tuples. Nous pouvons mélanger différents types de clés et différents types de valeurs dans un dictionnaire. Les clés sont uniques, si nous répétons une clé, nous écraserons l'ancienne valeur avec la nouvelle. Lorsque nous stockons une valeur dans un dictionnaire, la clé n'a pas besoin d'exister - elle sera créée automatiquement :"
   ]
  },
  {
   "cell_type": "code",
   "execution_count": null,
   "metadata": {
    "pycharm": {
     "name": "#%%\n"
    }
   },
   "outputs": [],
   "source": [
    "battleship_guesses = {\n",
    "    (3, 4): False,\n",
    "    (2, 6): True,\n",
    "    (2, 5): True,\n",
    "}"
   ]
  },
  {
   "cell_type": "code",
   "execution_count": null,
   "metadata": {
    "pycharm": {
     "name": "#%%\n"
    }
   },
   "outputs": [],
   "source": [
    "battleship_guesses = {\n",
    "    (3, 4): False,\n",
    "    (2, 6): True,\n",
    "    (2, 5): True,\n",
    "}\n",
    "\n",
    "surnames = {}\n",
    "surnames[\"John\"] = \"Smith\"\n",
    "surnames[\"John\"] = \"Doe\"\n",
    "print(surnames) # \n",
    "\n",
    "marbles = {\"red\": 34, \"green\": 30, \"brown\": 31, \"yellow\": 29 }\n",
    "marbles[\"blue\"] = 30 # this will work\n",
    "marbles[\"purple\"] += 2 # this will fail -- the increment operator needs an existing value to modify!\n"
   ]
  },
  {
   "cell_type": "markdown",
   "metadata": {
    "pycharm": {
     "name": "#%% md\n"
    }
   },
   "source": [
    "Voici quelques fonctions couramment utilisées pour les objets `dict` :"
   ]
  },
  {
   "cell_type": "code",
   "execution_count": null,
   "metadata": {
    "pycharm": {
     "name": "#%%\n"
    }
   },
   "outputs": [],
   "source": [
    "marbles = {\"red\": 34, \"green\": 30, \"brown\": 31, \"yellow\": 29 }\n",
    "\n",
    "print(marbles.keys())\n",
    "print(marbles.values())\n",
    "print(marbles.items())"
   ]
  },
  {
   "cell_type": "code",
   "execution_count": null,
   "metadata": {
    "pycharm": {
     "name": "#%%\n"
    }
   },
   "outputs": [],
   "source": [
    "# Get a value by its key, or None if it doesn't exist\n",
    "marbles.get(\"orange\")\n",
    "# We can specify a different default\n",
    "marbles.get(\"orange\", 0)\n",
    "\n",
    "# Add several items to the dictionary at once\n",
    "marbles.update({\"orange\": 34, \"blue\": 23, \"purple\": 36})\n",
    "\n",
    "# All the keys in the dictionary\n",
    "marbles.keys()\n",
    "# All the values in the dictionary\n",
    "marbles.values()\n",
    "# All the items in the dictionary\n",
    "marbles.items()"
   ]
  },
  {
   "cell_type": "markdown",
   "metadata": {
    "pycharm": {
     "name": "#%% md\n"
    }
   },
   "source": [
    "On peut vérifier si une clé est dans le dictionnaire en utilisant `in` et `not in` :"
   ]
  },
  {
   "cell_type": "code",
   "execution_count": null,
   "metadata": {
    "pycharm": {
     "name": "#%%\n"
    }
   },
   "outputs": [],
   "source": [
    "print(marbles)\n",
    "#print(31 not in marbles)\n",
    "print(31 in marbles.values())"
   ]
  },
  {
   "cell_type": "code",
   "execution_count": null,
   "metadata": {
    "pycharm": {
     "name": "#%%\n"
    }
   },
   "outputs": [],
   "source": [
    "print(\"purple\" in marbles.keys())\n",
    "print(\"white\" not in marbles)\n",
    "\n",
    "print(31 in marbles.values())"
   ]
  },
  {
   "cell_type": "markdown",
   "metadata": {
    "pycharm": {
     "name": "#%% md\n"
    }
   },
   "source": [
    "## 6. Converstion des collections\n",
    "\n",
    "\n",
    "### Conversions implicites\n",
    "\n",
    "Si nous essayons d'itérer sur une collection dans une boucle `for` (quelque chose dont nous discuterons dans le prochain chapitre), Python essaiera de la convertir en quelque chose que nous pouvons parcourir s'il sait comment le faire. Par exemple, les `dict` que nous avons vues ci-dessus ne sont pas réellement des itérateurs, mais Python sait comment les transformer en itérateurs, nous pouvons donc les utiliser dans une boucle `for` sans avoir à les convertir nous-mêmes.\n",
    "\n",
    "Parfois, l'itérateur que nous obtenons par défaut peut ne pas être ce à quoi nous nous attendions, si nous parcourons un dictionnaire dans une boucle `for`, nous parcourrons les clés. Si ce que nous voulons réellement faire est d'itérer sur les valeurs, ou les paires clé et valeur, nous devrons le spécifier nous-mêmes en utilisant les fonctions `values` et `items`.\n",
    "\n",
    "\n",
    "### Conversions explicites\n",
    "\n",
    "Nous pouvons convertir les différents types de séquences en utilisant les fonctions `built-in` (correspondant au type) pour convertir les séquences dans les types souhaités :"
   ]
  },
  {
   "cell_type": "code",
   "execution_count": null,
   "metadata": {
    "pycharm": {
     "name": "#%%\n"
    }
   },
   "outputs": [],
   "source": [
    "animals = ['cat', 'dog', 'goldfish', 'canary', 'cat']\n",
    "animals_set = set(animals)\n",
    "animals_unique_list = list(animals_set)\n",
    "animals_unique_tuple = tuple(animals_unique_list)\n",
    "\n",
    "\n",
    "marbles = {\"red\": 34, \"green\": 30, \"brown\": 31, \"yellow\": 29 }\n",
    "colours = list(marbles) # the keys will be used by default\n",
    "counts = tuple(marbles.values()) # but we can use a view to get the values\n",
    "marbles_set = set(marbles.items()) # or the key-value pairs\n",
    "\n",
    "\n",
    "# Python doesn't know how to convert this into a dictionary\n",
    "dict([1, 2, 3, 4])\n",
    "\n",
    "# but this will work\n",
    "dict([(1, 2), (3, 4)])"
   ]
  },
  {
   "cell_type": "code",
   "execution_count": null,
   "metadata": {
    "pycharm": {
     "name": "#%%\n"
    }
   },
   "outputs": [],
   "source": [
    "dict([(1, 2), (3, 4)])"
   ]
  },
  {
   "cell_type": "markdown",
   "metadata": {
    "pycharm": {
     "name": "#%% md\n"
    }
   },
   "source": [
    "## 7. Les `string` sont des séquences\n",
    "\n",
    "Les  `string` sont également une sorte de type de séquence. Ce sont des séquences de caractères et partagent certaines propriétés avec d'autres séquences. Par exemple, nous pouvons trouver la longueur d'une `string` ou l'index d'un caractère dans la `string`, et nous pouvons accéder à des éléments individuels de la `string` ou des `slice` :"
   ]
  },
  {
   "cell_type": "code",
   "execution_count": null,
   "metadata": {
    "pycharm": {
     "name": "#%%\n"
    }
   },
   "outputs": [],
   "source": [
    "s = \"abracadabra\"\n",
    "\n",
    "print(len(s))\n",
    "print(s.index(\"a\"))\n",
    "print(s[0])\n",
    "print(s[3:11:3])\n",
    "print('a' in 'abcd') # True"
   ]
  },
  {
   "cell_type": "code",
   "execution_count": null,
   "metadata": {
    "pycharm": {
     "name": "#%%\n"
    }
   },
   "outputs": [],
   "source": [
    "print('montpellier' in 'montpellier est la meilleure ville de france') # also True"
   ]
  },
  {
   "cell_type": "code",
   "execution_count": null,
   "metadata": {
    "pycharm": {
     "name": "#%%\n"
    }
   },
   "outputs": [],
   "source": []
  },
  {
   "cell_type": "markdown",
   "metadata": {
    "pycharm": {
     "name": "#%% md\n"
    }
   },
   "source": [
    "N'oubliez pas que les chaînes sont immuables, la modification des caractères sur place n'est pas autorisée :"
   ]
  },
  {
   "cell_type": "code",
   "execution_count": null,
   "metadata": {
    "pycharm": {
     "name": "#%%\n"
    }
   },
   "outputs": [],
   "source": [
    "# this will give us an error\n",
    "s[0] = \"b\""
   ]
  },
  {
   "cell_type": "markdown",
   "metadata": {
    "pycharm": {
     "name": "#%% md\n"
    }
   },
   "source": [
    "Les opérateurs `in` et `not in` ont un comportement spécial lorsqu'il est appliqué aux `string` : nous pouvons l'utiliser pour déterminer si une `string` contient un seul caractère en tant qu'élément, mais nous pouvons également l'utiliser pour vérifier si une `string` en contient une autre :"
   ]
  },
  {
   "cell_type": "code",
   "execution_count": null,
   "metadata": {
    "pycharm": {
     "name": "#%%\n"
    }
   },
   "outputs": [],
   "source": [
    "print('a' in 'abcd') # True\n",
    "print('ab' in 'abcd') # also True\n",
    "\n",
    "# this doesn't work for lists\n",
    "print(['a', 'b'] in ['a', 'b', 'c', 'd']) # False"
   ]
  },
  {
   "cell_type": "markdown",
   "metadata": {
    "pycharm": {
     "name": "#%% md\n"
    }
   },
   "source": [
    "On peut convertir une `string` en `list` :"
   ]
  },
  {
   "cell_type": "code",
   "execution_count": null,
   "metadata": {
    "pycharm": {
     "name": "#%%\n"
    }
   },
   "outputs": [],
   "source": [
    "abc_list = list(\"abracadabra\")\n",
    "print(abc_list)"
   ]
  },
  {
   "cell_type": "markdown",
   "metadata": {
    "pycharm": {
     "name": "#%% md\n"
    }
   },
   "source": [
    "Et si on voulait convertir une liste de caractères en chaîne ? L'utilisation de la fonction `str` sur la liste nous donnera simplement une chaîne affichable de la liste, y compris les virgules, les guillemets et les crochets. Pour fusionner des séquence de caractères (ou de `string`) en une seule `string`, nous devons utiliser la fonction `join`.\n",
    "\n",
    "Cette fonction, attachée à une `string` fonction comme tel :"
   ]
  },
  {
   "cell_type": "code",
   "execution_count": null,
   "metadata": {
    "pycharm": {
     "name": "#%%\n"
    }
   },
   "outputs": [],
   "source": [
    "a = \"abcd\"\n",
    "a.replace('a', 'x')"
   ]
  },
  {
   "cell_type": "code",
   "execution_count": null,
   "metadata": {
    "pycharm": {
     "name": "#%%\n"
    }
   },
   "outputs": [],
   "source": [
    "print(a)"
   ]
  },
  {
   "cell_type": "code",
   "execution_count": null,
   "metadata": {
    "pycharm": {
     "name": "#%%\n"
    }
   },
   "outputs": [],
   "source": []
  },
  {
   "cell_type": "code",
   "execution_count": null,
   "metadata": {
    "pycharm": {
     "name": "#%%\n"
    }
   },
   "outputs": [],
   "source": [
    "l = ['a', 'b', 'r', 'a', 'c', 'a', 'd', 'a', 'b', 'r', 'a']\n",
    "\n",
    "s = \"\".join(l)\n",
    "print(s)\n",
    "animals = ('cat', 'dog', 'fish')\n",
    "\n",
    "# a space-separated list\n",
    "str_animals = \"-\".join(animals)\n",
    "print(str_animals, type(str_animals))"
   ]
  },
  {
   "cell_type": "code",
   "execution_count": null,
   "metadata": {
    "pycharm": {
     "name": "#%%\n"
    }
   },
   "outputs": [],
   "source": [
    "\n",
    "\n",
    "# a comma-separated list\n",
    "print(\",\".join(animals))\n",
    "\n",
    "# a comma-separated list with spaces\n",
    "print(\", \".join(animals))"
   ]
  },
  {
   "cell_type": "markdown",
   "metadata": {
    "pycharm": {
     "name": "#%% md\n"
    }
   },
   "source": [
    "L'opposé de la fonction `join` est la fonction `split`. Nous pouvons diviser une `string` en une liste de `string` en utilisant la fonction `split`. S'il est appelé sans aucun paramètre, split divise une chaîne en mots, en utilisant n'importe quel nombre de caractères blancs consécutifs comme délimiteur. Nous pouvons utiliser des paramètres supplémentaires pour spécifier un délimiteur différent ainsi qu'une limite sur le nombre maximum de fractionnements à effectuer :"
   ]
  },
  {
   "cell_type": "code",
   "execution_count": null,
   "metadata": {
    "pycharm": {
     "name": "#%%\n"
    }
   },
   "outputs": [],
   "source": [
    "str_splt = \"cat    dog fish\\n\".split()"
   ]
  },
  {
   "cell_type": "code",
   "execution_count": null,
   "metadata": {
    "pycharm": {
     "name": "#%%\n"
    }
   },
   "outputs": [],
   "source": [
    "print(str_splt)\n",
    "print(\"cat|dog|fish\".split(\"|\"))\n",
    "print(\"cat, dog, fish\".split(\", \"))\n",
    "print(\"cat, dog, fish\".split(\", \", 1))"
   ]
  },
  {
   "cell_type": "markdown",
   "metadata": {
    "pycharm": {
     "name": "#%% md\n"
    }
   },
   "source": [
    "## Les séquences à 2 dimensions\n",
    "\n",
    "La plupart des séquences que nous avons vues jusqu'à présent étaient unidimensionnelles : chaque séquence est une ligne d'éléments. Que se passe-t-il si nous voulons utiliser une séquence pour représenter une structure de données bidimensionnelle, qui comporte à la fois des lignes et des colonnes ? La façon la plus simple de le faire est de créer une séquence dans laquelle chaque élément est également une séquence. Par exemple, nous pouvons créer une liste de listes :"
   ]
  },
  {
   "cell_type": "code",
   "execution_count": null,
   "metadata": {
    "pycharm": {
     "name": "#%%\n"
    }
   },
   "outputs": [],
   "source": [
    "my_table = [\n",
    "    [1, 2, 3],\n",
    "    [4, 5, 6],\n",
    "    [7, 8, 9],\n",
    "    [10, 11, 12],\n",
    "]"
   ]
  },
  {
   "cell_type": "code",
   "execution_count": null,
   "metadata": {
    "pycharm": {
     "name": "#%%\n"
    }
   },
   "outputs": [],
   "source": [
    "print(my_table[3][0])"
   ]
  },
  {
   "cell_type": "markdown",
   "metadata": {
    "pycharm": {
     "name": "#%% md\n"
    }
   },
   "source": [
    "La liste extérieure a quatre éléments, et chacun de ces éléments est une liste avec trois éléments (qui sont des nombres). Pour accéder à l'un de ces nombres, nous devons utiliser deux indices - un pour la liste externe et un pour la liste interne :"
   ]
  },
  {
   "cell_type": "code",
   "execution_count": null,
   "metadata": {
    "pycharm": {
     "name": "#%%\n"
    }
   },
   "outputs": [],
   "source": [
    "print(my_table[0][0])\n",
    "\n",
    "# lists are mutable, so we can do this\n",
    "my_table[0][0] = 42"
   ]
  },
  {
   "cell_type": "markdown",
   "metadata": {
    "pycharm": {
     "name": "#%% md\n"
    }
   },
   "source": [
    "orsque nous utilisons une séquence bidimensionnelle pour représenter des données tabulaires, chaque séquence interne aura la même longueur, car un tableau est rectangulaire, mais rien ne nous empêche de construire des séquences bidimensionnelles qui n'ont pas cette propriété :"
   ]
  },
  {
   "cell_type": "code",
   "execution_count": null,
   "metadata": {
    "pycharm": {
     "name": "#%%\n"
    }
   },
   "outputs": [],
   "source": [
    "my_2d_list = [\n",
    "    [0],\n",
    "    [1, 2, 3, 4],\n",
    "    [5, 6],\n",
    "]"
   ]
  },
  {
   "cell_type": "markdown",
   "metadata": {
    "pycharm": {
     "name": "#%% md\n"
    }
   },
   "source": [
    "On peut aussi faire une séquence tridimensionnelle en faisant une liste de listes de listes :"
   ]
  },
  {
   "cell_type": "code",
   "execution_count": null,
   "metadata": {
    "pycharm": {
     "name": "#%%\n"
    }
   },
   "outputs": [],
   "source": [
    "my_3d_list = [\n",
    "    [[1, 2], [3, 4]],\n",
    "    [[5, 6], [7, 8]],\n",
    "]\n",
    "\n",
    "print(my_3d_list[0][0][0])"
   ]
  },
  {
   "cell_type": "markdown",
   "metadata": {
    "pycharm": {
     "name": "#%% md\n"
    }
   },
   "source": [
    "### Exemple : emploi du temps\n",
    "\n",
    "Si nous voulions faire une liste en deux dimensions pour représenter un emploi du temps hebdomadaire, nous pourrions soit avoir des jours comme liste extérieure et des créneaux horaires comme liste intérieure ou l'inverse - nous devrons nous rappeler quelle plage nous avons choisie pour être la lignes et dont les colonnes.\n",
    "\n",
    "Supposons que nous voulions initialiser l'horaire avec une chaîne vide dans chaque plage horaire – disons que nous avons 24 plages horaires d'une heure chaque jour. Cela fait sept listes de 24 éléments chacune :"
   ]
  },
  {
   "cell_type": "code",
   "execution_count": null,
   "metadata": {
    "pycharm": {
     "name": "#%%\n"
    }
   },
   "outputs": [],
   "source": [
    "day = [\"\"][:] * 24\n",
    "timetable =  [day][:] * 7\n",
    "timetable[0][15] = \"meeting with Jane\"\n",
    "print(timetable)"
   ]
  },
  {
   "cell_type": "markdown",
   "metadata": {
    "pycharm": {
     "name": "#%% md\n"
    }
   },
   "source": [
    "Mais que se passe-t-il si nous répétons un jour sept fois pour faire une semaine ?"
   ]
  },
  {
   "cell_type": "markdown",
   "metadata": {
    "pycharm": {
     "name": "#%% md\n"
    }
   },
   "source": [
    "Voyons ce qui se passe lorsque nous essayons de programmer une réunion pour le lundi après-midi :"
   ]
  },
  {
   "cell_type": "markdown",
   "metadata": {
    "pycharm": {
     "name": "#%% md\n"
    }
   },
   "source": [
    "Chaque jour a la même réunion l'après-midi ! Qu'est ce qui s'est passé ? Lorsque nous avons multiplié notre liste de jours par sept, nous avons rempli notre emploi du temps avec le même objet `list`, répété sept fois. Tous les éléments de notre emploi du temps sont le même jour, donc peu importe celui que nous modifions, nous les modifions tous en même temps.\n",
    "\n",
    "Pourquoi cela n'avait-il pas d'importance lorsque nous avons fait la liste des jours en multipliant la même chaîne vide 24 fois ? Parce que les `string` sont immuables. Nous ne pouvons modifier les valeurs des `string` dans la liste des jours qu'en leur attribuant de nouvelles valeurs, nous ne pouvons pas les modifier directement, donc peu importe qu'elles commencent toutes par le même objet de chaîne.\n",
    "   \n",
    "Ce que nous voulons en fait, ce sont sept copies d'une liste de jours dans notre emploi du temps :"
   ]
  },
  {
   "cell_type": "code",
   "execution_count": null,
   "metadata": {
    "pycharm": {
     "name": "#%%\n"
    }
   },
   "outputs": [],
   "source": [
    "timetable = [[\"\"] * 24 for day in range(7)]"
   ]
  }
 ],
 "metadata": {
  "colab": {
   "name": "2021-07-07-React-C1-lesson1.ipynb",
   "provenance": []
  },
  "interpreter": {
   "hash": "5f93c710f340a2e31cff3bb6ebdbfdc2ef47a25bab77ef50e9e25900c31fe89f"
  },
  "kernelspec": {
   "display_name": "Python 3 (ipykernel)",
   "language": "python",
   "name": "python3"
  },
  "language_info": {
   "codemirror_mode": {
    "name": "ipython",
    "version": 3
   },
   "file_extension": ".py",
   "mimetype": "text/x-python",
   "name": "python",
   "nbconvert_exporter": "python",
   "pygments_lexer": "ipython3",
   "version": "3.9.0"
  },
  "varInspector": {
   "cols": {
    "lenName": 16,
    "lenType": 16,
    "lenVar": 40
   },
   "kernels_config": {
    "python": {
     "delete_cmd_postfix": "",
     "delete_cmd_prefix": "del ",
     "library": "var_list.py",
     "varRefreshCmd": "print(var_dic_list())"
    },
    "r": {
     "delete_cmd_postfix": ") ",
     "delete_cmd_prefix": "rm(",
     "library": "var_list.r",
     "varRefreshCmd": "cat(var_dic_list()) "
    }
   },
   "types_to_exclude": [
    "module",
    "function",
    "builtin_function_or_method",
    "instance",
    "_Feature"
   ],
   "window_display": false
  }
 },
 "nbformat": 4,
 "nbformat_minor": 2
}