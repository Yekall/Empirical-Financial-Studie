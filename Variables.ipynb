{
 "cells": [
  {
   "cell_type": "markdown",
   "id": "4b544a91",
   "metadata": {
    "pycharm": {
     "name": "#%% md\n"
    }
   },
   "source": [
    " ### Dans cette partie nous allons aborder la notion de `variable`"
   ]
  },
  {
   "cell_type": "markdown",
   "id": "01ee2c3a",
   "metadata": {
    "pycharm": {
     "name": "#%% md\n"
    }
   },
   "source": [
    "### Exercice 1:\n",
    "1. Saisir des variables avec des valeurs \n",
    "Affectez les variables temps et distance par les valeurs 6.892 et 19.7.\n",
    "Calculez et affichez la valeur de la vitesse.\n",
    "Améliorez l’affichage en imposant un chiffre après le point décimal.\n",
    "\n",
    "2. Saisir un nom et un âge en utilisant l’instruction input(). Les afficher.\n",
    "Refaire la saisie du nom, mais avec l’instruction raw_input(). L’afficher.\n",
    "Enfin, utilisez la « bonne pratique » : recommencez l’exercice en transtypant les saisies\n",
    "effectuées avec l’instruction raw_input()"
   ]
  },
  {
   "cell_type": "code",
   "execution_count": 1,
   "id": "3e1ad89a",
   "metadata": {
    "pycharm": {
     "name": "#%%\n"
    }
   },
   "outputs": [
    {
     "name": "stdout",
     "output_type": "stream",
     "text": [
      "2.8583865351131745\n",
      "2.9\n",
      "Yann 12.0\n"
     ]
    }
   ],
   "source": [
    "temps = 6.892\n",
    "distance = 19.7\n",
    "vitesse = distance / temps\n",
    "print(vitesse)\n",
    "vitesse = round(vitesse,1)\n",
    "print(vitesse)\n",
    "nom=input(\"Entrer un nom : \")\n",
    "age=float(input(\"et un âge : \"))\n",
    "print(nom, age)"
   ]
  },
  {
   "cell_type": "markdown",
   "id": "c0705583",
   "metadata": {
    "pycharm": {
     "name": "#%% md\n"
    }
   },
   "source": [
    "### Exercice 2:\n",
    "\n",
    "Initialisez deux entiers : a = 0 et b = 10.\n",
    "Écrire une boucle affichant et incrémentant la valeur de a tant qu’elle reste inférieure\n",
    "à celle de b.\n",
    "Écrire une autre boucle décrémentant la valeur de b et affichant sa valeur si elle est\n",
    "impaire. Boucler tant que b n’est pas nul.\n"
   ]
  },
  {
   "cell_type": "code",
   "execution_count": 2,
   "id": "6e799b4b",
   "metadata": {
    "pycharm": {
     "name": "#%%\n"
    }
   },
   "outputs": [
    {
     "name": "stdout",
     "output_type": "stream",
     "text": [
      "9\n",
      "7\n",
      "5\n",
      "3\n",
      "1\n",
      "10 0\n"
     ]
    }
   ],
   "source": [
    "a,b = 0,10\n",
    "while a<b :\n",
    "    a+=1\n",
    "while b>0:\n",
    "    if b%2 == 1:\n",
    "        print(b)\n",
    "    b-=1\n",
    "print(a,b)"
   ]
  },
  {
   "cell_type": "markdown",
   "id": "0fa1d05a",
   "metadata": {
    "pycharm": {
     "name": "#%% md\n"
    }
   },
   "source": [
    "### Exercice 3\n",
    "Écrire une saisie filtrée d’un entier dans l’intervalle 1 à 10, bornes comprises. Affichez\n",
    "la saisie."
   ]
  },
  {
   "cell_type": "code",
   "execution_count": 3,
   "id": "ed841f4a",
   "metadata": {
    "pycharm": {
     "name": "#%%\n"
    }
   },
   "outputs": [
    {
     "ename": "ValueError",
     "evalue": "invalid literal for int() with base 10: ''",
     "output_type": "error",
     "traceback": [
      "\u001B[1;31m---------------------------------------------------------------------------\u001B[0m",
      "\u001B[1;31mValueError\u001B[0m                                Traceback (most recent call last)",
      "Input \u001B[1;32mIn [3]\u001B[0m, in \u001B[0;36m<cell line: 2>\u001B[1;34m()\u001B[0m\n\u001B[0;32m      1\u001B[0m x \u001B[38;5;241m=\u001B[39m \u001B[38;5;28mint\u001B[39m(\u001B[38;5;28minput\u001B[39m())\n\u001B[0;32m      2\u001B[0m \u001B[38;5;28;01mwhile\u001B[39;00m (x\u001B[38;5;241m<\u001B[39m\u001B[38;5;241m1\u001B[39m \u001B[38;5;129;01mor\u001B[39;00m x\u001B[38;5;241m>\u001B[39m\u001B[38;5;241m10\u001B[39m) :\n\u001B[1;32m----> 3\u001B[0m     x \u001B[38;5;241m=\u001B[39m \u001B[38;5;28;43mint\u001B[39;49m\u001B[43m(\u001B[49m\u001B[38;5;28;43minput\u001B[39;49m\u001B[43m(\u001B[49m\u001B[43m)\u001B[49m\u001B[43m)\u001B[49m\n",
      "\u001B[1;31mValueError\u001B[0m: invalid literal for int() with base 10: ''"
     ]
    }
   ],
   "source": [
    "x = int(input())\n",
    "while (x<1 or x>10) :\n",
    "    x = int(input())   "
   ]
  },
  {
   "cell_type": "markdown",
   "id": "d22d09e3",
   "metadata": {
    "pycharm": {
     "name": "#%% md\n"
    }
   },
   "source": [
    "### Exercice 4\n",
    "Affichez chaque caractère d’une chaîne en utilisant une boucle for.\n",
    "Affichez chaque élément d’une liste en utilisant une boucle for.\n"
   ]
  },
  {
   "cell_type": "code",
   "execution_count": null,
   "id": "7c3df25c",
   "metadata": {
    "pycharm": {
     "name": "#%%\n"
    }
   },
   "outputs": [],
   "source": [
    "for c in \"J'aime la saucisse\":\n",
    "    print(c)\n",
    "for n in [4,6,78,24,2,9,47]:\n",
    "    print(n)"
   ]
  },
  {
   "cell_type": "markdown",
   "id": "151a2f5d",
   "metadata": {
    "pycharm": {
     "name": "#%% md\n"
    }
   },
   "source": [
    "### Exercice 5\n",
    "Affichez les entiers de 0 à 15 non compris, de trois en trois, en utilisant une boucle for\n",
    "et l’instruction range()."
   ]
  },
  {
   "cell_type": "code",
   "execution_count": null,
   "id": "caabfe4e",
   "metadata": {
    "pycharm": {
     "name": "#%%\n"
    }
   },
   "outputs": [],
   "source": [
    "for i in range(0,15,3):\n",
    "    print(i)"
   ]
  },
  {
   "cell_type": "markdown",
   "id": "86e79079",
   "metadata": {
    "pycharm": {
     "name": "#%% md\n"
    }
   },
   "source": [
    "### Exercice 6\n",
    "Utilisez l’instruction break pour interrompre une boucle for d’affichage des entiers\n",
    "de 1 à 10 compris, lorsque la variable de boucle vaut 5.\n"
   ]
  },
  {
   "cell_type": "code",
   "execution_count": null,
   "id": "8c21559c",
   "metadata": {
    "pycharm": {
     "name": "#%%\n"
    }
   },
   "outputs": [],
   "source": []
  },
  {
   "cell_type": "markdown",
   "id": "23e11fca",
   "metadata": {
    "pycharm": {
     "name": "#%% md\n"
    }
   },
   "source": [
    "### Exercice 7\n",
    "Utilisez l’instruction continue pour modifier une boucle for d’affichage de tous entiers de 1 à 10 compris, sauf lorsque la variable de boucle vaut 5."
   ]
  },
  {
   "cell_type": "code",
   "execution_count": null,
   "id": "ebb8b5a7",
   "metadata": {
    "pycharm": {
     "name": "#%%\n"
    }
   },
   "outputs": [],
   "source": [
    "n = 0\n",
    "for n in range(11):\n",
    "    if n == 5:\n",
    "        continue\n",
    "\n",
    "    print('Number is ', n)"
   ]
  },
  {
   "cell_type": "markdown",
   "id": "3631e95e",
   "metadata": {
    "pycharm": {
     "name": "#%% md\n"
    }
   },
   "source": [
    "### Exercice 8\n",
    "Afficher les 10 premiers nombres naturels en utilisant la boucle while Aide : boucle while en Python Sortie attendue : 1 2 3 4 5 6 7 8 9 10"
   ]
  },
  {
   "cell_type": "code",
   "execution_count": null,
   "id": "490f3b18",
   "metadata": {
    "pycharm": {
     "name": "#%%\n"
    }
   },
   "outputs": [],
   "source": [
    "a=0\n",
    "while(a<10):\n",
    "    a+=1\n",
    "    print(a)"
   ]
  },
  {
   "cell_type": "markdown",
   "id": "621b33e2",
   "metadata": {
    "pycharm": {
     "name": "#%% md\n"
    }
   },
   "source": [
    "### Exercice 9\n",
    "Ecrivez un programme pour imprimer la table de multiplication d'un nombre donné. Par exemple, num = 2, la sortie devrait être la suivante\n",
    "2 4 6 8 10 12 14 16 18 20\n",
    "\n",
    "Indice: Définir n =2 Utiliser la boucle for pour itérer les 10 premiers nombres Dans chaque itération, multiplier 2 par le nombre actuel.( p = n*i) Imprimer p"
   ]
  },
  {
   "cell_type": "code",
   "execution_count": null,
   "id": "887fafed",
   "metadata": {
    "pycharm": {
     "name": "#%%\n"
    }
   },
   "outputs": [],
   "source": [
    "def multiplicationTable(n):\n",
    "    for i in range(11):\n",
    "        print(n,\"x\",i,\"=\",n*i)\n",
    "multiplicationTable(7)"
   ]
  },
  {
   "cell_type": "markdown",
   "id": "29fe6657",
   "metadata": {
    "pycharm": {
     "name": "#%% md\n"
    }
   },
   "source": [
    "### Exercice 10\n",
    "Compter le nombre total de chiffres dans un nombre Ecrivez un programme pour compter le nombre total de chiffres dans un nombre en utilisant une boucle while.\n",
    "\n",
    "Par exemple, le nombre est 75869, donc la sortie doit être 5.\n",
    "\n",
    "Indice: Définir le compteur = 0 Exécuter la boucle while jusqu'à ce que le nombre != 0 Dans chaque itération de la boucle Réduire le dernier chiffre du nombre en utilisant la division plancher ( nombre = nombre // 10) Incrémenter le compteur par 1 imprimer le compteur"
   ]
  },
  {
   "cell_type": "code",
   "execution_count": null,
   "id": "6d048b6c",
   "metadata": {
    "pycharm": {
     "name": "#%%\n"
    }
   },
   "outputs": [],
   "source": [
    "a=0\n",
    "n=75869\n",
    "while(n!=0):\n",
    "    a+=1\n",
    "    n //=10\n",
    "print(a)"
   ]
  },
  {
   "cell_type": "code",
   "execution_count": null,
   "id": "1123d00a",
   "metadata": {
    "pycharm": {
     "name": "#%%\n"
    }
   },
   "outputs": [],
   "source": []
  }
 ],
 "metadata": {
  "kernelspec": {
   "display_name": "Python 3 (ipykernel)",
   "language": "python",
   "name": "python3"
  },
  "language_info": {
   "codemirror_mode": {
    "name": "ipython",
    "version": 3
   },
   "file_extension": ".py",
   "mimetype": "text/x-python",
   "name": "python",
   "nbconvert_exporter": "python",
   "pygments_lexer": "ipython3",
   "version": "3.9.0"
  }
 },
 "nbformat": 4,
 "nbformat_minor": 5
}