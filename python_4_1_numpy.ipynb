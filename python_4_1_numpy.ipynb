{
 "cells": [
  {
   "cell_type": "markdown",
   "metadata": {},
   "source": [
    "# IV-1. Cours Python : Introduction à Numpy\n",
    "> Python - Chapter4 - LESSON 1.\n",
    "\n",
    "- toc: false \n",
    "- badges: true\n",
    "- comments: false\n",
    "- categories: [Python-Intermediary, Python-Numpy, Python-Numpy-Introduction]\n",
    "- layout: post\n",
    "- permalink: /python/chapter/4/lesson/1/\n",
    "\n",
    "-Python\n",
    "    - Numpy\n",
    "        -lesson = Introduction à Numpy"
   ]
  },
  {
   "cell_type": "markdown",
   "metadata": {},
   "source": [
    "## 1. Introduction\n",
    "\n",
    "L'objet principal de NumPy est le tableau multidimensionnel homogène. C'est un tableau d'éléments (généralement de nombres), tous du `même type`, indexés par un tuple d'entiers non négatifs. Dans NumPy, les dimensions sont appelées `axes`.\n",
    "\n",
    "Par exemple, les coordonnées d'un point dans l'espace 3D `[1, 2, 1]` ont un axe. Cet axe contient 3 éléments, nous disons donc qu'il a une longueur de 3.\n",
    "Dans l'exemple illustré ci-dessous, le tableau a 2 axes. Le premier axe a une longueur de 2, le deuxième axe a une longueur de 3.\n",
    "\n",
    "```\n",
    "[[1., 0., 0.],\n",
    " [0., 1., 2.]]\n",
    "```\n",
    "\n",
    "La classe d'un tableau de NumPy s'appelle `ndarray`. Il est également connu par l'alias : `array`.\n",
    "\n",
    "Les attributs les plus importants d'un objet `ndarray` sont :\n",
    "\n",
    "| Méthode | Description |\n",
    "| ------- | ----------- |\n",
    "| `ndarray.ndim` | le nombre d'axes (dimensions) du tableau. |\n",
    "| `ndarray.shape` | les dimensions du tableau. Il s'agit d'un tuple d'entiers indiquant la taille du tableau dans chaque dimension. Pour une matrice avec `n` lignes et `m` colonnes, la forme (`shape`) sera `(n,m)`. La longueur du tuple de forme est donc le nombre d'axes, `ndim`. |\n",
    "| `ndarray.size` | le nombre total d'éléments du tableau. Ceci est égal au produit des éléments de `shape`. |\n",
    "| `ndarray.dtype` | un objet décrivant le type des éléments du tableau. On peut créer ou spécifier des dtype en utilisant des types Python standard. De plus, NumPy fournit ses propres types. `numpy.int32`, `numpy.int16` et `numpy.float64` en sont quelques exemples. |\n",
    "| `ndarray.itemsize` | la taille en octets de chaque élément du tableau. Par exemple, un tableau d'éléments de type `float64` a une `itemsize` de 8 (=64/8), tandis qu'un autre de type complex32 a une taille d'élément 4 (=32/8). Il est équivalent à `ndarray.dtype.itemsize`. |\n",
    "| `ndarray.data` | le tampon contenant les éléments réels du tableau. Normalement, nous n'aurons pas besoin d'utiliser cet attribut car nous accéderons aux éléments d'un tableau à l'aide de fonctions d'indexation. |\n",
    "\n",
    "Quelques exemples : "
   ]
  },
  {
   "cell_type": "code",
   "execution_count": null,
   "metadata": {},
   "outputs": [],
   "source": [
    "import numpy as np\n",
    "\n",
    "# Generate 2 dimensions array\n",
    "a = np.arange(15).reshape(3, 5)\n",
    "print(a)\n",
    "\n",
    "# Show infos\n",
    "print(a.shape)\n",
    "print(a.ndim)\n",
    "print(a.dtype.name)\n",
    "print(a.itemsize)\n",
    "print(a.size)\n",
    "print(type(a))\n",
    "\n",
    "\n",
    "# Create 1 dimension array\n",
    "b = np.array([6, 7, 8])\n",
    "print(b)\n",
    "print(type(b))\n"
   ]
  },
  {
   "cell_type": "markdown",
   "metadata": {},
   "source": [
    "## 2. Création de tableaux\n",
    "\n",
    "Il existe plusieurs façons de créer des tableaux numpy.\n",
    "\n",
    "Par exemple, vous pouvez créer un tableau à partir d'une liste ou d'un tuple Python standard à l'aide de la fonction `array`. Le type du tableau résultant est déduit du type des éléments dans les séquences.\n",
    "\n"
   ]
  },
  {
   "cell_type": "code",
   "execution_count": null,
   "metadata": {},
   "outputs": [],
   "source": [
    "import numpy as np\n",
    "\n",
    "a = np.array([2, 3, 4])\n",
    "print(a)\n",
    "print(a.dtype)\n",
    "\n",
    "b = np.array([1.2, 3.5, 5.1])\n",
    "print(b)\n",
    "print(b.dtype)\n",
    "\n",
    "# Be careful !\n",
    "a = np.array(1, 2, 3, 4)    # WRONG\n",
    "a = np.array([1, 2, 3, 4])  # RIGHT"
   ]
  },
  {
   "cell_type": "markdown",
   "metadata": {},
   "source": [
    "`array` transforme des séquences de séquences en tableaux bidimensionnels, des séquences de séquences de séquences en tableaux tridimensionnels, etc."
   ]
  },
  {
   "cell_type": "code",
   "execution_count": null,
   "metadata": {},
   "outputs": [],
   "source": [
    "b = np.array([(1.5, 2, 3), (4, 5, 6)])\n",
    "print(b)"
   ]
  },
  {
   "cell_type": "markdown",
   "metadata": {},
   "source": [
    "La fonction `zeros` crée un tableau plein de zéros, la fonction `ones` crée un tableau plein de uns et la fonction `empty` crée un tableau dont le contenu initial est aléatoire et dépend de l'état de la mémoire. Par défaut, le `dtype` du tableau créé est `float64`, mais il peut être spécifié via le mot clé argument `dtype`."
   ]
  },
  {
   "cell_type": "code",
   "execution_count": null,
   "metadata": {},
   "outputs": [],
   "source": [
    "print(np.zeros((3, 4)))\n",
    "print(np.ones((2, 3, 4), dtype=np.int16))\n",
    "print(np.empty((2, 3)))"
   ]
  },
  {
   "cell_type": "markdown",
   "metadata": {},
   "source": [
    "Pour créer des séquences de nombres, NumPy fournit la fonction `arange` qui est analogue à la fonction Python `range`, mais renvoie un `array`."
   ]
  },
  {
   "cell_type": "code",
   "execution_count": null,
   "metadata": {},
   "outputs": [],
   "source": [
    "print(np.arange(10, 30, 5))\n",
    "print(np.arange(0, 2, 0.3))"
   ]
  },
  {
   "cell_type": "markdown",
   "metadata": {},
   "source": [
    "Lorsque `arange` est utilisé avec des arguments à virgule flottante, il n'est généralement pas possible de prédire le nombre d'éléments obtenus, en raison de la précision de la virgule flottante finie. Pour cette raison, il est généralement préférable d'utiliser la fonction `linspace` qui reçoit en argument le nombre d'éléments que l'on veut, au lieu de l'étape :"
   ]
  },
  {
   "cell_type": "code",
   "execution_count": null,
   "metadata": {},
   "outputs": [],
   "source": [
    "from numpy import pi\n",
    "\n",
    "print(np.linspace(0, 2, 9))\n",
    "\n",
    "x = np.linspace(0, 2 * pi, 100)\n",
    "print(x)\n",
    "\n",
    "f = np.sin(x)\n",
    "print(f)\n"
   ]
  },
  {
   "cell_type": "markdown",
   "metadata": {},
   "source": [
    "## 3. L'affichage des tableaux\n",
    "\n",
    "Lorsque vous affichez un tableau, NumPy l'affiche de la même manière que les listes imbriquées, mais avec la disposition suivante :\n",
    " - le dernier axe est affiché de gauche à droite,\n",
    " - l'avant-dernier est affiché de haut en bas,\n",
    " - le reste est également affiché de haut en bas, chaque tranche étant séparée de la suivante par une ligne vide.\n",
    "\n",
    "Les tableaux à une dimension sont ensuite affichés sous forme de lignes, les bidimensionnels sous forme de matrices et les tridimensionnels sous forme de listes de matrices."
   ]
  },
  {
   "cell_type": "code",
   "execution_count": null,
   "metadata": {},
   "outputs": [],
   "source": [
    "a = np.arange(6)\n",
    "print(a)\n",
    "\n",
    "b = np.arange(12).reshape(4, 3)\n",
    "print(b)\n",
    "\n",
    "c = np.arange(24).reshape(2, 3, 4)\n",
    "print(c)"
   ]
  },
  {
   "cell_type": "markdown",
   "metadata": {},
   "source": [
    "Si un tableau est trop grand pour être affiché, NumPy ignore automatiquement la partie centrale du tableau et n'affiche que les coins :"
   ]
  },
  {
   "cell_type": "code",
   "execution_count": null,
   "metadata": {},
   "outputs": [],
   "source": [
    "print(np.arange(10000))\n",
    "print(np.arange(10000).reshape(100, 100))"
   ]
  },
  {
   "cell_type": "markdown",
   "metadata": {},
   "source": [
    "Pour désactiver ce comportement et forcer NumPy à afficher l'intégralité du tableau, vous pouvez modifier les options d'impression à l'aide de `set_printoptions`."
   ]
  },
  {
   "cell_type": "code",
   "execution_count": null,
   "metadata": {},
   "outputs": [],
   "source": [
    "import sys\n",
    "np.set_printoptions(threshold=sys.maxsize)"
   ]
  },
  {
   "cell_type": "markdown",
   "metadata": {},
   "source": [
    "## 4. Les opérations de base\n",
    "\n",
    "Les opérateurs arithmétiques sur les tableaux s'appliquent élément par élément. Un nouveau tableau est créé et rempli avec le résultat."
   ]
  },
  {
   "cell_type": "code",
   "execution_count": null,
   "metadata": {},
   "outputs": [],
   "source": [
    "a = np.array([20, 30, 40, 50])\n",
    "b = np.arange(4)\n",
    "print(c - b)\n",
    "print(b ** 2)\n",
    "print(10 * np.sin(a))\n",
    "print(a < 35)"
   ]
  },
  {
   "cell_type": "markdown",
   "metadata": {},
   "source": [
    "L'opérateur de produit `*` fonctionne par élément dans les tableaux NumPy.\n",
    "Le produit matriciel peut être réalisé à l'aide de l'opérateur `@` ou de la fonction ou méthode `dot` :"
   ]
  },
  {
   "cell_type": "code",
   "execution_count": null,
   "metadata": {},
   "outputs": [],
   "source": [
    "A = np.array([[1, 1], [0, 1]])\n",
    "B = np.array([[2, 0], [3, 4]])\n",
    "print(A * B)\n",
    "print(A @ B)\n",
    "print(A.dot(B))"
   ]
  },
  {
   "cell_type": "markdown",
   "metadata": {},
   "source": [
    "# 5. Les fonctions universelles\n",
    "\n",
    "NumPy fournit des fonctions mathématiques connues telles que `sin`, `cos` et `exp`. Dans NumPy, celles-ci sont appelées « fonctions universelles » (`ufunc`). Ces fonctions opèrent élément par élément sur un tableau, produisant un tableau en sortie."
   ]
  },
  {
   "cell_type": "code",
   "execution_count": null,
   "metadata": {},
   "outputs": [],
   "source": [
    "B = np.arange(3)\n",
    "print(B)\n",
    "\n",
    "print(np.exp(B))\n",
    "print(np.sqrt(B))\n",
    "\n",
    "C = np.array([2., -1., 4.])\n",
    "print(C)\n",
    "print(np.add(B, C))"
   ]
  },
  {
   "cell_type": "markdown",
   "metadata": {},
   "source": [
    "D'autres fonctions connues : `all`, `any`, `apply_along_axis`, `argmax`, `argmin`, `argsort`, `average`, `bincount`, `ceil`, `clip`, `conj`, `corrcoef`, `cov`, `cross`, `cumprod`, `cumsum`, `diff`, `dot`, `floor`, `inner`, `invert`, `lexsort`, `max`, `maximum`, `mean`, `median`, `min`, `minimum`, `nonzero`, `outer`, `prod`, `re`, `round`, `sort`, `std`, `sum`, `trace`, `transpose`, `var`, `vdot`, `vectorize`, `where`"
   ]
  },
  {
   "cell_type": "markdown",
   "metadata": {},
   "source": [
    "## 6. L'indexation, découpage et itération\n",
    "\n",
    "Les tableaux à une dimension peuvent être indexés, découpés et itérés, un peu comme les listes et autres séquences Python."
   ]
  },
  {
   "cell_type": "code",
   "execution_count": null,
   "metadata": {},
   "outputs": [],
   "source": [
    "a = np.arange(10)\n",
    "print(a)\n",
    "\n",
    "# Get element\n",
    "print(a[2])\n",
    "\n",
    "print(a[2:5])\n",
    "\n",
    "# equivalent to a[0:6:2] = 1000\n",
    "a[:6:2] = 1000\n",
    "print(a)\n",
    "\n",
    "# reverted array\n",
    "print(a[::-1])\n",
    "\n",
    "for i in a:\n",
    "    print(i)"
   ]
  },
  {
   "cell_type": "markdown",
   "metadata": {},
   "source": [
    "Les tableaux multidimensionnels peuvent avoir un index par axe. Ces indices sont donnés dans un tuple séparé par des virgules :"
   ]
  },
  {
   "cell_type": "code",
   "execution_count": null,
   "metadata": {},
   "outputs": [],
   "source": [
    "def f(x, y):\n",
    "    return 10 * x + y\n",
    "\n",
    "# We can create an array using a function\n",
    "b = np.fromfunction(f, (5, 4), dtype=int)\n",
    "print(b)\n",
    "\n",
    "# Get element\n",
    "print(b[2, 3])\n",
    "\n",
    "# each row in the second column of b\n",
    "# equivalent to : b[:, 1]\n",
    "print(b[0:5, 1])\n",
    "\n",
    "# each column in the second and third row of b\n",
    "print(b[1:3, :])\n",
    "\n",
    "# the last row. Equivalent to b[-1, :]\n",
    "print(b[-1])"
   ]
  },
  {
   "cell_type": "markdown",
   "metadata": {},
   "source": [
    "L'expression entre crochets dans `b[i]` est traitée comme un `i` suivi d'autant d'instances de `:` que nécessaire pour représenter les axes restants. NumPy vous permet également d'écrire ceci en utilisant des points comme `b[i, ...]`.\n",
    "\n",
    "Les points (`...`) représentent autant de `:` que nécessaire pour produire un tuple d'indexation complet. Par exemple, si `x` est un tableau à 5 axes, alors :\n",
    " - `x[1, 2, ...]` est équivalent à `x[1, 2, :, :, :]`\n",
    " - `x[..., 3]` est équivalent à `x[:, :, :, :, 3]`\n",
    " - `x[4, ..., 5, :]` est équivalent à `x[4, :, :, 5, :]`.\n"
   ]
  },
  {
   "cell_type": "code",
   "execution_count": null,
   "metadata": {},
   "outputs": [],
   "source": [
    "# a 3D array (two stacked 2D arrays)\n",
    "c = np.array([[[  0,  1,  2],\n",
    "             [ 10, 12, 13]],\n",
    "             [[100, 101, 102],\n",
    "             [110, 112, 113]]])\n",
    "\n",
    "print(c.shape)\n",
    "\n",
    "print(c[1, ...])\n",
    "\n",
    "print(c[..., 2])"
   ]
  },
  {
   "cell_type": "markdown",
   "metadata": {},
   "source": [
    "L'itération sur des tableaux multidimensionnels se fait par rapport au premier axe :"
   ]
  },
  {
   "cell_type": "code",
   "execution_count": null,
   "metadata": {},
   "outputs": [],
   "source": [
    "b = np.array([[  0,  1,  2],\n",
    "             [ 10, 12, 13],\n",
    "             [100, 101, 102],\n",
    "             [110, 112, 113]])\n",
    "\n",
    "for row in b:\n",
    "    print(row)\n",
    "\n",
    "\n",
    "# get each element of array in all dimensions\n",
    "for element in b.flat:\n",
    "    print(element)"
   ]
  },
  {
   "cell_type": "code",
   "execution_count": null,
   "metadata": {},
   "outputs": [],
   "source": []
  }
 ],
 "metadata": {
  "interpreter": {
   "hash": "5f93c710f340a2e31cff3bb6ebdbfdc2ef47a25bab77ef50e9e25900c31fe89f"
  },
  "kernelspec": {
   "display_name": "Python 3.7.9 64-bit ('python-course': virtualenv)",
   "name": "python3"
  },
  "language_info": {
   "codemirror_mode": {
    "name": "ipython",
    "version": 3
   },
   "file_extension": ".py",
   "mimetype": "text/x-python",
   "name": "python",
   "nbconvert_exporter": "python",
   "pygments_lexer": "ipython3",
   "version": "3.9.7"
  },
  "orig_nbformat": 4
 },
 "nbformat": 4,
 "nbformat_minor": 2
}
