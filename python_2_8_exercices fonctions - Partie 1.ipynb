{
 "cells": [
  {
   "cell_type": "markdown",
   "metadata": {
    "id": "Hu-DQLCysvHt",
    "pycharm": {
     "name": "#%% md\n"
    }
   },
   "source": [
    "# Cours Python : Exercices 2 - Fonctions - Partie 1\n",
    "\n",
    "- toc: false \n",
    "- badges: true\n",
    "- comments: false\n",
    "- categories: [Python-Novice, Python-functions-exercices]\n",
    "- layout: post\n",
    "- permalink: /python/chapter/2/lesson/7/\n",
    "\n",
    "-Python\n",
    "    -Exercises sur les fonctions\n",
    "        -lesson = Les fonctions"
   ]
  },
  {
   "cell_type": "markdown",
   "metadata": {
    "pycharm": {
     "name": "#%% md\n"
    }
   },
   "source": [
    "# Fonctions - Partie 1 :"
   ]
  },
  {
   "cell_type": "markdown",
   "metadata": {
    "pycharm": {
     "name": "#%% md\n"
    }
   },
   "source": [
    "## Exercice 1\n",
    "\n",
    " - 1) Créez une fonction appelée `hypotenuse`, qui prend deux nombres comme paramètres et imprime la racine carrée de la somme de leurs carrés.\n",
    " - 2) Appelez cette fonction avec deux flottants.\n",
    " - 3) Appelez cette fonction avec deux entiers.\n",
    " - 4) Appelez cette fonction avec un entier et un flottant."
   ]
  },
  {
   "cell_type": "code",
   "execution_count": null,
   "metadata": {
    "vscode": {
     "languageId": "plaintext"
    },
    "pycharm": {
     "name": "#%%\n"
    }
   },
   "outputs": [],
   "source": []
  },
  {
   "cell_type": "markdown",
   "metadata": {
    "pycharm": {
     "name": "#%% md\n"
    }
   },
   "source": [
    "## Exercice 2\n",
    "\n",
    " - 1) Réécrivez la fonction `hypotenuse` de l'exercice 2 afin qu'elle renvoie une valeur au lieu de l'àfficher. Ajoutez la gestion des `exceptions` afin que la fonction renvoie `None` si elle est appelée avec des paramètres du mauvais type.\n",
    " - 2) Appelez la fonction avec deux nombres et afficher le résultat.\n",
    " - 3) Appelez la fonction avec deux `string` et afficher le résultat.\n",
    " - 4) Appelez la fonction avec un nombre et une `string` et afficher le résultat."
   ]
  },
  {
   "cell_type": "code",
   "execution_count": null,
   "metadata": {
    "pycharm": {
     "name": "#%%\n"
    }
   },
   "outputs": [],
   "source": []
  },
  {
   "cell_type": "markdown",
   "metadata": {
    "vscode": {
     "languageId": "plaintext"
    },
    "pycharm": {
     "name": "#%% md\n"
    }
   },
   "source": [
    "## Exercice 3\n",
    "\n",
    " - 1) Écrivez une fonction appelée `calculator`. Il doit prendre les paramètres suivants : deux nombres, une opération arithmétique (qui peut être une addition, une soustraction, une multiplication ou une division et est une addition par défaut), et un format de sortie (qui peut être un entier ou une virgule flottante, et est une virgule flottante par défaut ). La division doit être une division à virgule flottante.\n",
    " \n",
    "        La fonction doit effectuer l'opération demandée sur les deux nombres d'entrée et renvoyer un résultat dans le format demandé (si le format est un entier, le résultat doit être arrondi et pas seulement tronqué). Levez des exceptions si nécessaire si l'un des paramètres transmis à la fonction n'est pas valide.\n",
    "\n",
    " - 2) Appelez la fonction avec les ensembles de paramètres suivants et vérifiez que la réponse est celle que vous attendez :\n",
    "     - `2`, `3.0`\n",
    "     - `2`, `3.0`, le format de sortie est un entier\n",
    "     - `2`, `3.0`, l'opération est la division\n",
    "     - `2`, `3.0`, l'opération est la division, le format de sortie est un entier"
   ]
  },
  {
   "cell_type": "code",
   "execution_count": null,
   "metadata": {
    "pycharm": {
     "name": "#%%\n"
    }
   },
   "outputs": [],
   "source": []
  },
  {
   "cell_type": "markdown",
   "metadata": {
    "pycharm": {
     "name": "#%% md\n"
    }
   },
   "source": [
    "## Exercice 4\n",
    "\n",
    "Réécrivez la fonction `calculator` de l'exercice précédent afin qu'elle prenne un nombre *quelconque de nombres* ainsi que le même paramètre facultatif( ou paramètres (à vous d'y réfléchir)). La fonction doit appliquer l'opération aux deux premiers nombres, puis l'appliquer à nouveau au résultat et au nombre suivant, et ainsi de suite. Par exemple, si les nombres sont 6, 4, 9 et 1 et que l'opération est une soustraction, la fonction doit renvoyer `6 - 4 - 9 - 1`. Si un seul nombre est entré, il doit être renvoyé tel quel. Si aucun nombre n'est entré, levez une exception."
   ]
  },
  {
   "cell_type": "code",
   "execution_count": null,
   "metadata": {
    "pycharm": {
     "name": "#%%\n"
    }
   },
   "outputs": [],
   "source": []
  },
  {
   "cell_type": "markdown",
   "metadata": {
    "pycharm": {
     "name": "#%% md\n"
    }
   },
   "source": [
    "## Exercice 5\n",
    "\n",
    " - 1) Définissez les fonctions suivantes comme lambdas et affectez-les à des variables :\n",
    "        - Prenez un paramètre, retourner son carré\n",
    "        - Prenez deux paramètres, renvoie la racine carrée des sommes de leurs carrés\n",
    "        - Prenez n'importe quel nombre de paramètres, retourner leur moyenne\n",
    "        - Prenez un paramètre de chaîne, renvoie une chaîne qui contient les lettres uniques dans la chaîne d'entrée (dans n'importe quel ordre)\n",
    "\n",
    " - 2) Réécrivez toutes ces fonctions en tant que fonctions nommées."
   ]
  },
  {
   "cell_type": "code",
   "execution_count": null,
   "metadata": {
    "pycharm": {
     "name": "#%%\n"
    }
   },
   "outputs": [],
   "source": []
  },
  {
   "cell_type": "markdown",
   "metadata": {
    "pycharm": {
     "name": "#%% md\n"
    }
   },
   "source": [
    "## Exercice 6\n",
    "\n",
    " Écrivez une fonction récursive qui calcule la factorielle d'un nombre donné (exemple : `4! = 1 × 2 × 3 × 4 = 24`). Utilisez la gestion des exceptions pour lever une exception appropriée si le paramètre d'entrée n'est pas un entier positif, mais autorisez l'utilisateur à entrer des nombres flottants tant qu'il s'agit de nombres entiers."
   ]
  },
  {
   "cell_type": "code",
   "execution_count": null,
   "metadata": {
    "pycharm": {
     "name": "#%%\n"
    }
   },
   "outputs": [],
   "source": []
  },
  {
   "cell_type": "markdown",
   "metadata": {
    "pycharm": {
     "name": "#%% md\n"
    }
   },
   "source": [
    "## Exercice 7\n",
    "\n",
    "Écrivez une fonction génératrice qui prend un entier `n` comme paramètre. La fonction doit renvoyer un générateur qui compte à rebours de `n` à `0`. Testez votre fonction en utilisant une boucle `for`."
   ]
  },
  {
   "cell_type": "code",
   "execution_count": null,
   "metadata": {
    "pycharm": {
     "name": "#%%\n"
    }
   },
   "outputs": [],
   "source": []
  }
 ],
 "metadata": {
  "colab": {
   "name": "2021-07-07-React-C1-lesson1.ipynb",
   "provenance": []
  },
  "interpreter": {
   "hash": "5f93c710f340a2e31cff3bb6ebdbfdc2ef47a25bab77ef50e9e25900c31fe89f"
  },
  "kernelspec": {
   "display_name": "Python 3 (ipykernel)",
   "language": "python",
   "name": "python3"
  },
  "language_info": {
   "codemirror_mode": {
    "name": "ipython",
    "version": 3
   },
   "file_extension": ".py",
   "mimetype": "text/x-python",
   "name": "python",
   "nbconvert_exporter": "python",
   "pygments_lexer": "ipython3",
   "version": "3.9.0"
  },
  "varInspector": {
   "cols": {
    "lenName": 16,
    "lenType": 16,
    "lenVar": 40
   },
   "kernels_config": {
    "python": {
     "delete_cmd_postfix": "",
     "delete_cmd_prefix": "del ",
     "library": "var_list.py",
     "varRefreshCmd": "print(var_dic_list())"
    },
    "r": {
     "delete_cmd_postfix": ") ",
     "delete_cmd_prefix": "rm(",
     "library": "var_list.r",
     "varRefreshCmd": "cat(var_dic_list()) "
    }
   },
   "types_to_exclude": [
    "module",
    "function",
    "builtin_function_or_method",
    "instance",
    "_Feature"
   ],
   "window_display": false
  }
 },
 "nbformat": 4,
 "nbformat_minor": 2
}