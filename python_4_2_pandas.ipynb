{
 "cells": [
  {
   "cell_type": "markdown",
   "metadata": {},
   "source": [
    "# IV-2. Cours Python : Introduction à Pandas\n",
    "> Python - Chapter 4 - LESSON 2.\n",
    "\n",
    "- toc: false \n",
    "- badges: true\n",
    "- comments: false\n",
    "- categories: [Python-Intermediary, Python-Pandas, Python-Pandas-Introduction]\n",
    "- layout: post\n",
    "- permalink: /python/chapter/4/lesson/2/\n",
    "\n",
    "-Python\n",
    "    - Pandas\n",
    "        -lesson = Introduction à Pandas"
   ]
  },
  {
   "cell_type": "markdown",
   "metadata": {},
   "source": [
    "Pandas est une librairie python qui permet de manipuler, analyser, nettoyer et explorer facilement des données.\n",
    "Le nom \"Pandas\" fait référence à la fois à \"Panel Data\" et à \"Python Data Analysis\" "
   ]
  },
  {
   "cell_type": "markdown",
   "metadata": {},
   "source": [
    "## 1. Les Séries\n",
    "\n",
    "Une série Pandas est un tableau étiqueté (avec un label), unidimensionnel capable de contenir n'importe quel type de données (entiers, chaînes, nombres à virgule flottante, objets Python, etc.). Les labels d'axe sont collectivement appelés `index`. Voici quelques exemples de création de séries :"
   ]
  },
  {
   "cell_type": "code",
   "execution_count": null,
   "metadata": {},
   "outputs": [],
   "source": [
    "import numpy as np\n",
    "import pandas as pd\n",
    "\n",
    "# Default index\n",
    "data= [1, 7, 2]\n",
    "a = pd.Series(data)\n",
    "print(a)\n",
    "\n",
    "# Labeled index\n",
    "b = pd.Series(np.arange(0, 13, 3), index=[\"a\", \"b\", \"c\", \"d\", \"e\"])\n",
    "print(b)\n",
    "\n",
    "# Create from dict\n",
    "dico = {\"b\": 1, \"a\": 0, \"c\": 2}\n",
    "c = pd.Series(dico)\n",
    "print(c)\n",
    "\n",
    "# Create from dict with base64\n",
    "dico = {\"a\": 0.0, \"b\": 1.0, \"c\": 2.0}\n",
    "d = pd.Series(dico)\n",
    "print(d)\n",
    "\n",
    "# Create from dict with index\n",
    "e = pd.Series(dico, index=[\"b\", \"c\", \"d\", \"a\"])\n",
    "print(e)\n",
    "\n",
    "# Create with fixed value\n",
    "f = pd.Series(5.0, index=[\"a\", \"b\", \"c\", \"d\", \"e\"])\n",
    "print(f)\n"
   ]
  },
  {
   "cell_type": "markdown",
   "metadata": {},
   "source": [
    "Une serie agit de manière très similaire à un `ndarray` et constitue un argument valide pour la plupart des fonctions NumPy. Cependant, des opérations telles que le slicing trancheront également l'index"
   ]
  },
  {
   "cell_type": "code",
   "execution_count": null,
   "metadata": {},
   "outputs": [],
   "source": [
    "s = pd.Series(np.random.randn(5), index=[\"a\", \"b\", \"c\", \"d\", \"e\"])\n",
    "\n",
    "print(s[0])\n",
    "\n",
    "print(s[:3])\n",
    "\n",
    "print(s[s > s.median()])\n",
    "\n",
    "print(s[[4, 3, 1]])\n",
    "\n",
    "print(np.exp(s))\n",
    "\n"
   ]
  },
  {
   "cell_type": "markdown",
   "metadata": {},
   "source": [
    "Une série est comme un `dict` de taille fixe dans la mesure où vous pouvez obtenir et définir des valeurs par le label d'index :"
   ]
  },
  {
   "cell_type": "code",
   "execution_count": null,
   "metadata": {},
   "outputs": [],
   "source": [
    "print(s[\"a\"])\n",
    "\n",
    "s[\"e\"] = 12.0\n",
    "print(s)\n",
    "\n",
    "print(\"e\" in s)\n",
    "\n",
    "print(\"f\" in s)"
   ]
  },
  {
   "cell_type": "markdown",
   "metadata": {},
   "source": [
    "Les séries ont un nom :"
   ]
  },
  {
   "cell_type": "code",
   "execution_count": null,
   "metadata": {},
   "outputs": [],
   "source": [
    "# Create serie with name\n",
    "s = pd.Series(np.random.randn(5), name=\"something\")\n",
    "print(s)\n",
    "print(s.name)\n",
    "\n",
    "# Create new serie renamed\n",
    "s2 = s.rename(\"different\")\n",
    "print(s2.name)\n"
   ]
  },
  {
   "cell_type": "markdown",
   "metadata": {},
   "source": [
    "## 2. Les Dataframes\n",
    "\n",
    "Un `DataFrame` est une structure de données étiquetée en 2 dimensions avec des colonnes de types potentiellement différents. Vous pouvez le considérer comme une feuille de calcul ou une table `SQL`, ou un `dict` d'objets `Series`. C'est l'objet pandas le plus couramment utilisé. Comme pour un `Series`, un `DataFrame` accepte de nombreux types d'entrées :\n",
    "\n",
    " - Dict de ndarrays 1D, listes, dicts ou séries\n",
    " - numpy.ndarray 2D\n",
    " - ndarray structuré\n",
    " - Une série\n",
    " - Un autre DataFrame\n",
    "\n",
    "En plus des données, vous pouvez éventuellement transmettre des arguments d'index (label de ligne) et de colonnes (label de colonne)."
   ]
  },
  {
   "cell_type": "code",
   "execution_count": null,
   "metadata": {},
   "outputs": [],
   "source": [
    "# --- Build from dict of series ---\n",
    "d = {\n",
    "    \"one\": pd.Series([1.0, 2.0, 3.0], index=[\"a\", \"b\", \"c\"]),\n",
    "    \"two\": pd.Series([1.0, 2.0, 3.0, 4.0], index=[\"a\", \"b\", \"c\", \"d\"]),\n",
    "}\n",
    "df = pd.DataFrame(d)\n",
    "print(df)\n",
    "\n",
    "# Set indexes\n",
    "df = pd.DataFrame(d, index=[\"d\", \"b\", \"a\"])\n",
    "print(df)\n",
    "\n",
    "# Set columns\n",
    "df = pd.DataFrame(d, index=[\"d\", \"b\", \"a\"], columns=[\"two\", \"three\"])\n",
    "print(df)\n",
    "\n",
    "# Show indexes and columns\n",
    "print(df.index)\n",
    "print(df.columns)\n",
    "\n",
    "\n",
    "# --- Build from dict of lists ---\n",
    "d = {\"one\": [1.0, 2.0, 3.0, 4.0], \"two\": [4.0, 3.0, 2.0, 1.0]}\n",
    "df = pd.DataFrame(d)\n",
    "print(df)\n",
    "\n",
    "# Set indexes\n",
    "df = pd.DataFrame(d, index=[\"a\", \"b\", \"c\", \"d\"])\n",
    "print(df)\n",
    "\n",
    "\n",
    "# --- From csv ---\n",
    "df = pd.read_csv(\"\\file_path\\data.csv\")\n",
    "print(df)"
   ]
  },
  {
   "cell_type": "markdown",
   "metadata": {},
   "source": [
    "### Pratique :\n",
    "\n",
    "Pandas permet de lire des fichiers CSV, JSON, Excel, etc. Suivez le tutoriel suivant pour en savoir plus sur les formats de fichiers supportés (vous allez vouloir par la suite lire toutes vos sources de données avec Pandas ) :\n",
    "\n",
    "https://pandas.pydata.org/docs/getting_started/intro_tutorials/02_read_write.html#min-tut-02-read-write"
   ]
  },
  {
   "cell_type": "markdown",
   "metadata": {},
   "source": [
    "Vous pouvez traiter un `DataFrame` comme un `dict` d'objets Series indexés de la même manière. Obtenir, définir et supprimer des colonnes fonctionne avec la même syntaxe que les opérations `dict` analogues :"
   ]
  },
  {
   "cell_type": "code",
   "execution_count": null,
   "metadata": {},
   "outputs": [],
   "source": [
    "# Show column \"one\"\n",
    "print(df[\"one\"])\n",
    "\n",
    "# Create column \"three\"\n",
    "df[\"three\"] = df[\"one\"] * df[\"two\"]\n",
    "print(df)\n",
    "\n",
    "# Create column \"flag\"\n",
    "df[\"flag\"] = df[\"one\"] > 2\n",
    "print(df)\n",
    "\n",
    "# Delete column \"flag\"\n",
    "del df[\"flag\"]\n",
    "print(df)\n",
    "\n",
    "# Get and delete column \"three\"\n",
    "three = df.pop(\"three\")\n",
    "print(df)\n",
    "\n",
    "# Set fixed value\n",
    "df[\"foo\"] = \"bar\"\n",
    "print(\"df\")\n",
    "\n",
    "# Create column \"one_trunc\"\n",
    "df[\"one_trunc\"] = df[\"one\"][:2]\n",
    "print(df)\n",
    "\n",
    "# Insert column \"bar\"\n",
    "df.insert(1, \"bar\", df[\"one\"])\n",
    "print(df)\n"
   ]
  },
  {
   "cell_type": "markdown",
   "metadata": {},
   "source": [
    "Les `DataFrame` ont une méthode `assign()` qui vous permet de créer facilement de nouvelles colonnes potentiellement dérivées de colonnes existantes :"
   ]
  },
  {
   "cell_type": "code",
   "execution_count": null,
   "metadata": {},
   "outputs": [],
   "source": [
    "dfa = pd.DataFrame({\"A\": [1, 2, 3], \"B\": [4, 5, 6]})\n",
    "dfa2 = dfa.assign(C=dfa[\"A\"] + dfa[\"B\"])\n",
    "print(dfa2)\n",
    "\n",
    "dfa3 = dfa.assign(C=lambda x: x[\"A\"] + x[\"B\"], D=lambda x: x[\"A\"] + x[\"C\"])\n",
    "print(dfa3)"
   ]
  },
  {
   "cell_type": "markdown",
   "metadata": {},
   "source": [
    "### L'indexation et selection\n",
    "\n",
    "Les bases de l'indexation sont les suivantes :\n",
    "\n",
    "| Operation | Syntaxe | \n",
    "| --------- | ------ | \n",
    "| Select column | `df[col]` |\n",
    "| Select row by integer location | `df.iloc[loc]` | \n",
    "| Slice rows | `df[5:10]` | \n",
    "| Select rows by boolean vector | `df[bool_vec]` | "
   ]
  },
  {
   "cell_type": "code",
   "execution_count": null,
   "metadata": {},
   "outputs": [],
   "source": [
    "df = pd.DataFrame(np.random.randn(10, 4), columns=[\"A\", \"B\", \"C\", \"D\"])\n",
    "\n",
    "print(df[\"B\"])\n",
    "print(df.iloc[2])\n",
    "print(df[5:10])"
   ]
  },
  {
   "cell_type": "markdown",
   "metadata": {},
   "source": [
    "### Alignement des données et arithmétique\n",
    "\n",
    "L'alignement des données entre les objets `DataFrame` s'aligne automatiquement sur les colonnes et l'index (labels de ligne). Encore une fois, l'objet résultant aura l'union des labels de colonne et de ligne.\n"
   ]
  },
  {
   "cell_type": "code",
   "execution_count": null,
   "metadata": {},
   "outputs": [],
   "source": [
    "df = pd.DataFrame(np.random.randn(10, 4), columns=[\"A\", \"B\", \"C\", \"D\"])\n",
    "df2 = pd.DataFrame(np.random.randn(7, 3), columns=[\"A\", \"B\", \"C\"])\n",
    "\n",
    "print(df + df2)\n",
    "\n",
    "print(df - df.iloc[0])\n",
    "\n",
    "print(df * 5 + 2)\n",
    "\n",
    "print(1 / df)\n",
    "\n",
    "print(df ** 4)\n",
    "\n",
    "# Transpose\n",
    "print(df.T)\n",
    "\n",
    "# Sort\n",
    "print(df.sort_values(by=\"B\"))\n",
    "\n",
    "# --- Boolean operators ---\n",
    "\n",
    "df1 = pd.DataFrame({\"a\": [1, 0, 1], \"b\": [0, 1, 1]}, dtype=bool)\n",
    "df2 = pd.DataFrame({\"a\": [0, 1, 1], \"b\": [1, 1, 0]}, dtype=bool)\n",
    "\n",
    "print(df1 & df2)\n",
    "\n",
    "print(df1 | df2)\n",
    "\n",
    "print(df1 ^ df2)\n",
    "\n",
    "print(-df1)\n"
   ]
  },
  {
   "cell_type": "markdown",
   "metadata": {},
   "source": [
    "## 3. Affichage\n",
    "\n",
    "Les très gros `DataFrames` seront tronqués pour les afficher dans la console. Vous pouvez également obtenir un résumé en utilisant `info()`."
   ]
  },
  {
   "cell_type": "code",
   "execution_count": null,
   "metadata": {},
   "outputs": [],
   "source": [
    "df = pd.DataFrame(np.random.randn(200, 4), columns=[\"A\", \"B\", \"C\", \"D\"])\n",
    "\n",
    "print(df)\n",
    "\n",
    "df.info()\n",
    "\n",
    "df.head()\n",
    "df.head(10)\n",
    "\n",
    "df.tail()\n",
    "\n",
    "df.describe()"
   ]
  },
  {
   "cell_type": "markdown",
   "metadata": {},
   "source": [
    "### Pratique : Exploration des attributs et méthodes utiles dans les objets dataframes\n",
    "\n",
    "Les `DataFrames` ont des attributs et des méthodes qui sont utiles pour la manipulation des données. Utilisez `dir()`, `help()` et `print()` pour explorer les méthodes et les attributs disponibles. En vous attardant sur les suivants :\n",
    "\n",
    "Attributs : dtypes, columns, axes, ndim, size, shape, values\n",
    "\n",
    "Méthodes : head(), describe(), max(), min(), min(), mean(), median(), count(), dropna(), sample()\n",
    "\n"
   ]
  },
  {
   "cell_type": "markdown",
   "metadata": {},
   "source": [
    "### Pratique 3 : Exploration du dataframe salaries\n",
    "\n",
    "\n",
    "En vous appuyant sur le fichier `salaries.csv` fourni, chargez le et répondez aux questions suivantes : \n",
    "\n",
    " -1) Quel est le type de la colonne `salary` ?\n",
    "\n",
    " -2) Quel est le type de toutes les colonnes ?\n",
    "\n",
    " -3) Selectionnez la colonne `salary` et affichez la valeur la plus élevée.\n",
    "\n",
    " -4) Selectionnez les 20 premières lignes du dataframe\n",
    "\n",
    " -5) Affichez les 2 dernières lignes du dataframe\n",
    "\n",
    " -6) Give the summary for the numeric columns in the dataset\n",
    "\n",
    " -7) Calculer l'écart type pour chaque colonne numérique\n",
    "\n",
    " -8) Quelle est la moyenne des salaires ?\n",
    " \n",
    " -9) Quel est la le grade le plus répondu dans le dataframe ?\n",
    "\n",
    " -10) Structurer votre code pour avoir deux fonctions : Une pour la lecture et Quel est le grade le moins répondu dans le dataframe ?\n",
    "\n",
    " Documentation Pandas à voir : https://pandas.pydata.org/docs/getting_started/index.html\n"
   ]
  }
 ],
 "metadata": {
  "interpreter": {
   "hash": "5f93c710f340a2e31cff3bb6ebdbfdc2ef47a25bab77ef50e9e25900c31fe89f"
  },
  "kernelspec": {
   "display_name": "Python 3.7.9 64-bit ('python-course': virtualenv)",
   "name": "python3"
  },
  "language_info": {
   "codemirror_mode": {
    "name": "ipython",
    "version": 3
   },
   "file_extension": ".py",
   "mimetype": "text/x-python",
   "name": "python",
   "nbconvert_exporter": "python",
   "pygments_lexer": "ipython3",
   "version": "3.9.7"
  },
  "orig_nbformat": 4
 },
 "nbformat": 4,
 "nbformat_minor": 2
}
