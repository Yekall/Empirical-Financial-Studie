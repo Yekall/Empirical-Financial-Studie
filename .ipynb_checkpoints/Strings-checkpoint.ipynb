{
 "cells": [
  {
   "cell_type": "markdown",
   "id": "eac62e09",
   "metadata": {},
   "source": [
    "### Exercices sur les `chaînes de caractères`"
   ]
  },
  {
   "cell_type": "markdown",
   "id": "37e88962",
   "metadata": {},
   "source": [
    "### Exercice 1 : \n",
    "Créer une chaîne de caractères composée du premier, du milieu et du dernier caractère Ecrivez un programme pour créer une nouvelle chaîne de caractères composée du premier, du milieu et du dernier caractère d'une chaîne d'entrée.\n",
    "\n",
    "Donnée :\n",
    "\n",
    "str1 = \"James\" Résultat attendu :\n",
    "\n",
    "Jms\n",
    "\n",
    "Indice L'indice de la chaîne commence toujours par 0 Utilisez l'indexation de la chaîne pour obtenir le caractère présent à l'indice donné Obtenez l'indice du caractère central en divisant la longueur de la chaîne par 2."
   ]
  },
  {
   "cell_type": "code",
   "execution_count": 4,
   "id": "6b7fa479",
   "metadata": {},
   "outputs": [
    {
     "name": "stdout",
     "output_type": "stream",
     "text": [
      "Jms\n"
     ]
    }
   ],
   "source": [
    "def dmfStr(string):\n",
    "    return (string[0]+s[int(len(string)/2)]+string[-1])\n",
    "print(dmfStr(\"James\"))"
   ]
  },
  {
   "cell_type": "markdown",
   "id": "74b999b4",
   "metadata": {},
   "source": [
    "### Exercice 2\n",
    "Créer une chaîne de caractères composée des trois caractères du milieu Écrivez un programme pour créer une nouvelle chaîne de caractères composée des trois caractères du milieu d'une chaîne d'entrée.\n",
    "\n",
    "Donnée :\n",
    "\n",
    "Cas 1 : str1 = \"JhonDipPeta\" Sortie : Dip\n",
    "\n",
    "Cas 2 : str2 = \"JaSonAy\" Produit : Son\n",
    "\n",
    "Conseil Tout d'abord, obtenez l'indice du milieu en divisant la longueur de la chaîne par 2. Utilisez le découpage de la chaîne pour obtenir les trois caractères du milieu en partant de l'indice du milieu jusqu'aux deux caractères suivants."
   ]
  },
  {
   "cell_type": "code",
   "execution_count": 11,
   "id": "9f563228",
   "metadata": {},
   "outputs": [
    {
     "name": "stdout",
     "output_type": "stream",
     "text": [
      "cis\n",
      "Dip\n",
      "Son\n"
     ]
    }
   ],
   "source": [
    "def milStr(string):\n",
    "    if(len(string)>3):\n",
    "        l = int(len(string)/2)\n",
    "        return (string[l-1]+string[l]+string[l+1])\n",
    "print(milStr(\"Saucisse\"))\n",
    "print(milStr(\"JhonDipPeta\"))\n",
    "print(milStr(\"JaSonAy\"))"
   ]
  },
  {
   "cell_type": "markdown",
   "id": "6d65f715",
   "metadata": {},
   "source": [
    "### Exercice 3\n",
    "Ajout d'une nouvelle chaîne au milieu d'une chaîne donnée Étant donné deux chaînes, s1 et s2. Ecrivez un programme pour créer une nouvelle chaîne s3 en ajoutant s2 au milieu de s1.\n",
    "\n",
    "Étant donné : s1 = \"Ault\" s2 = \"Kelly\" Résultat attendu :\n",
    "\n",
    "AuKellylt\n",
    "\n",
    "Conseil : Utilisez la fonction intégrée len(s1) pour obtenir la longueur de la chaîne. Ensuite, obtenez l'indice du milieu en divisant la longueur de la chaîne par 2."
   ]
  },
  {
   "cell_type": "code",
   "execution_count": 12,
   "id": "7a4bc545",
   "metadata": {},
   "outputs": [
    {
     "name": "stdout",
     "output_type": "stream",
     "text": [
      "AuKellylt\n"
     ]
    }
   ],
   "source": [
    "def ajMilStr(string1,string2):\n",
    "    n = int(len(string1)/2)\n",
    "    return string1[:n]+string2+string1[n:]\n",
    "print(ajMilStr(\"Ault\",\"Kelly\"))"
   ]
  },
  {
   "cell_type": "markdown",
   "id": "b81d4275",
   "metadata": {},
   "source": [
    "### Exercice 4\n",
    "Créez une nouvelle chaîne de caractères composée du premier, du milieu et du dernier caractère de chaque chaîne d'entrée. Étant donné deux chaînes de caractères, s1 et s2, écrivez un programme qui retourne une nouvelle chaîne de caractères composée du premier, du milieu et du dernier caractère de s1 et s2.\n",
    "\n",
    "Étant donné :\n",
    "s1 = \"Amérique\" s2 = \"Japon\".\n",
    "\n",
    "Sortie attendue :\n",
    "AJrpan\n",
    "\n",
    "Indice : l'indice de la chaîne commence à l'indice 0. Le premier caractère est présent à l'indice 0, et le dernier caractère est à la longueur de la chaîne d'indice -1 Utilisez la fonction intégrée len(s1) pour obtenir la longueur de la chaîne. Ensuite, obtenez le numéro de l'indice central en divisant la longueur de la chaîne par 2."
   ]
  },
  {
   "cell_type": "code",
   "execution_count": 15,
   "id": "81622ddf",
   "metadata": {},
   "outputs": [
    {
     "name": "stdout",
     "output_type": "stream",
     "text": [
      "AJrpan\n"
     ]
    }
   ],
   "source": [
    "def smlStr2(s1,s2):\n",
    "    return s1[0]+s2[0]+s1[int(len(s1)/2)]+s2[int(len(s2)/2)]+s1[-1]+s2[-1]\n",
    "print(smlStr2(\"America\",\"Japon\"))"
   ]
  },
  {
   "cell_type": "markdown",
   "id": "5a4ae826",
   "metadata": {},
   "source": [
    "### Exercice 5\n",
    "organiser les caractères d'une chaîne de caractères de façon à ce que les lettres minuscules viennent en premier Une chaîne de caractères donnée contient une combinaison de lettres minuscules et majuscules. Ecrivez un programme pour arranger les caractères d'une chaîne de manière à ce que toutes les lettres minuscules soient placées en premier.\n",
    "\n",
    "Étant donné :\n",
    "str1 = PyNaTive \n",
    "\n",
    "Résultat attendu :\n",
    "yaivePNT\n",
    "\n",
    "Conseil : Interrogez chaque caractère d'une chaîne et vérifiez si le caractère actuel est une minuscule ou une majuscule en utilisant la fonction islower()."
   ]
  },
  {
   "cell_type": "code",
   "execution_count": 16,
   "id": "b804daef",
   "metadata": {},
   "outputs": [
    {
     "name": "stdout",
     "output_type": "stream",
     "text": [
      "yaivePNT\n"
     ]
    }
   ],
   "source": [
    "def ex5(s):\n",
    "    s1=s2=''\n",
    "    for c in s:\n",
    "        if (c.islower()):\n",
    "            s1+=c\n",
    "        else:\n",
    "            s2+=c\n",
    "    return s1+s2\n",
    "print(ex5(\"PyNaTive\"))"
   ]
  },
  {
   "cell_type": "markdown",
   "id": "003321f9",
   "metadata": {},
   "source": [
    "### Exercice 6\n",
    " Compter toutes les lettres, tous les chiffres et tous les symboles spéciaux d'une chaîne donnée Donnée :\n",
    "\n",
    "str1 = \"P@#yn26at^&i5ve\" Résultat attendu :\n",
    "\n",
    "Nombre total de caractères, de chiffres et de symboles.\n",
    "\n",
    "Caractères = 8 Chiffres = 3 Symboles = 4\n",
    "\n",
    "Show hint Utilisez les fonctions suivantes pour les chaînes de caractères\n",
    "\n",
    "isalpha() : Pour vérifier si une chaîne/un caractère est un alphabet isdigit() : Pour vérifier si une chaîne/un caractère est un chiffre."
   ]
  },
  {
   "cell_type": "code",
   "execution_count": 17,
   "id": "db617633",
   "metadata": {},
   "outputs": [
    {
     "name": "stdout",
     "output_type": "stream",
     "text": [
      "(8, 3, 4)\n"
     ]
    }
   ],
   "source": [
    "def contentStr(s):\n",
    "    ca=ch=sy=0\n",
    "    for c in s:\n",
    "        if(c.isalpha()):\n",
    "            ca+=1\n",
    "        elif(c.isdigit()):\n",
    "            ch+=1\n",
    "        else:\n",
    "            sy+=1\n",
    "    return ca,ch,sy\n",
    "print(contentStr(\"P@#yn26at^&i5ve\"))"
   ]
  },
  {
   "cell_type": "markdown",
   "id": "1a9a0e84",
   "metadata": {},
   "source": [
    "### Exercice 7\n",
    "Créez une chaîne mixte en utilisant les règles suivantes Etant donné deux chaînes de caractères, s1 et s2. Ecrivez un programme pour créer une nouvelle chaîne s3 composée du premier caractère de s1, puis du dernier caractère de s2, puis du deuxième caractère de s1 et de l'avant-dernier caractère de s2, et ainsi de suite. Les caractères restants sont placés à la fin du résultat.\n",
    "\n",
    "Étant donné :\n",
    "s1 = \"Abc\" s2 = \"Xyz\" \n",
    "\n",
    "Résultat attendu :\n",
    "AzbycX"
   ]
  },
  {
   "cell_type": "code",
   "execution_count": 18,
   "id": "a7c6239c",
   "metadata": {},
   "outputs": [
    {
     "name": "stdout",
     "output_type": "stream",
     "text": [
      "AzbycX\n"
     ]
    }
   ],
   "source": [
    "def ex7(s1,s2):\n",
    "    if(len(s1)==len(s2)):\n",
    "        s=''\n",
    "        for i in range(len(s1)):\n",
    "            s+=s1[i]\n",
    "            s+=s2[-1-i]\n",
    "        return s\n",
    "print(ex7(\"Abc\",\"Xyz\"))"
   ]
  },
  {
   "cell_type": "markdown",
   "id": "a9d2694e",
   "metadata": {},
   "source": [
    "### Exercice 8\n",
    "Test d'équilibre des chaînes de caractères Écrivez un programme pour vérifier si deux chaînes de caractères sont équilibrées. Par exemple, les chaînes s1 et s2 sont équilibrées si tous les caractères de la s1 sont présents dans la s2. La position du caractère n'a pas d'importance.\n",
    "\n",
    "Étant donné :\n",
    "Cas 1 : s1 = \"Yn\" s2 = \"PYnative\".\n",
    "\n",
    "Sortie attendue : Vrai\n",
    "\n",
    "Cas 2 : s1 = \"Ynf\" s2 = \"PYnative\".\n",
    "\n",
    "Sortie attendue : Faux\n",
    "\n",
    "Astuce : Interrogez chaque caractère d'une chaîne s1 et vérifiez si le caractère actuel est présent dans la chaîne s2."
   ]
  },
  {
   "cell_type": "code",
   "execution_count": 19,
   "id": "8620a2fe",
   "metadata": {},
   "outputs": [],
   "source": [
    "def ex8(s1,s2):\n",
    "    for c in s1:\n",
    "        if(c not in s2):\n",
    "            return \"false\"\n",
    "    return \"true\""
   ]
  },
  {
   "cell_type": "markdown",
   "id": "d522859a",
   "metadata": {},
   "source": [
    "### Exercice 9\n",
    "Trouver toutes les occurrences d'une sous-chaîne dans une chaîne donnée en ignorant la casse Ecrivez un programme pour trouver toutes les occurrences de \"USA\" dans une chaîne donnée en ignorant la casse.\n",
    "\n",
    "Étant donné :\n",
    "\n",
    "str1 = \"Bienvenue aux USA. USA génial, n'est-ce pas ?\" Résultat attendu :\n",
    "\n",
    "Le nombre d'occurrences de USA est : 2\n",
    "\n",
    "Conseil : utilisez la fonction count() de la chaîne de caractères."
   ]
  },
  {
   "cell_type": "code",
   "execution_count": 20,
   "id": "905276cc",
   "metadata": {},
   "outputs": [],
   "source": [
    "def ex9(str,str2):\n",
    "    return str.lower().count(str2.lower())"
   ]
  },
  {
   "cell_type": "markdown",
   "id": "4de6aa5c",
   "metadata": {},
   "source": [
    "### Exercice 10\n",
    "Calculer la somme et la moyenne des chiffres présents dans une chaîne de caractères\n",
    "Étant donné une chaîne de caractères s1, écrivez un programme qui renvoie la somme et la moyenne des chiffres qui apparaissent dans la chaîne, en ignorant tous les autres caractères.\n",
    "\n",
    "Étant donné :\n",
    "str1 = \"PYnatif29@#8496\"\n",
    "Résultat attendu :\n",
    "\n",
    "La somme est : 38 La moyenne est 6,333333333333333\n",
    "Conseil :\n",
    "Interrogez chaque caractère de la chaîne s1 et vérifiez si le caractère actuel est un chiffre en utilisant la fonction isdigit()."
   ]
  },
  {
   "cell_type": "code",
   "execution_count": 21,
   "id": "73390a02",
   "metadata": {},
   "outputs": [
    {
     "name": "stdout",
     "output_type": "stream",
     "text": [
      "(38, 6.333333333333333)\n"
     ]
    }
   ],
   "source": [
    "def ex10(s):\n",
    "    cpt=0\n",
    "    somme=0\n",
    "    for c in s:\n",
    "        if(c.isdigit()):\n",
    "            somme+=int(c)\n",
    "            cpt+=1\n",
    "    if(cpt > 1):\n",
    "        return somme, somme/cpt;\n",
    "    return somme, 0;\n",
    "print(ex10(\"PYnatif29@#8496\"))"
   ]
  },
  {
   "cell_type": "code",
   "execution_count": null,
   "id": "526fbb5a",
   "metadata": {},
   "outputs": [],
   "source": []
  }
 ],
 "metadata": {
  "kernelspec": {
   "display_name": "Python 3 (ipykernel)",
   "language": "python",
   "name": "python3"
  },
  "language_info": {
   "codemirror_mode": {
    "name": "ipython",
    "version": 3
   },
   "file_extension": ".py",
   "mimetype": "text/x-python",
   "name": "python",
   "nbconvert_exporter": "python",
   "pygments_lexer": "ipython3",
   "version": "3.9.0"
  }
 },
 "nbformat": 4,
 "nbformat_minor": 5
}
