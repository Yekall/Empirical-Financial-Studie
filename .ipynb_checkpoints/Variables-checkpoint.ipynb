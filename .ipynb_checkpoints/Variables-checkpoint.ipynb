{
 "cells": [
  {
   "cell_type": "markdown",
   "id": "4b544a91",
   "metadata": {},
   "source": [
    " ### Dans cette partie nous allons aborder la notion de `variable`"
   ]
  },
  {
   "cell_type": "markdown",
   "id": "01ee2c3a",
   "metadata": {},
   "source": [
    "### Exercice 1:\n",
    "1. Saisir des variables avec des valeurs \n",
    "Affectez les variables temps et distance par les valeurs 6.892 et 19.7.\n",
    "Calculez et affichez la valeur de la vitesse.\n",
    "Améliorez l’affichage en imposant un chiffre après le point décimal.\n",
    "\n",
    "2. Saisir un nom et un âge en utilisant l’instruction input(). Les afficher.\n",
    "Refaire la saisie du nom, mais avec l’instruction raw_input(). L’afficher.\n",
    "Enfin, utilisez la « bonne pratique » : recommencez l’exercice en transtypant les saisies\n",
    "effectuées avec l’instruction raw_input()"
   ]
  },
  {
   "cell_type": "code",
   "execution_count": 7,
   "id": "3e1ad89a",
   "metadata": {},
   "outputs": [
    {
     "name": "stdout",
     "output_type": "stream",
     "text": [
      "2.8583865351131745\n",
      "2.9\n",
      "Entrer un nom : mane\n",
      "et un âge : 15\n",
      "mane 15.0\n"
     ]
    }
   ],
   "source": [
    "temps = 6.892\n",
    "distance = 19.7\n",
    "vitesse = distance / temps\n",
    "print(vitesse)\n",
    "vitesse = round(vitesse,1)\n",
    "print(vitesse)\n",
    "nom=input(\"Entrer un nom : \")\n",
    "age=float(input(\"et un âge : \"))\n",
    "print(nom, age)"
   ]
  },
  {
   "cell_type": "markdown",
   "id": "c0705583",
   "metadata": {},
   "source": [
    "### Exercice 2:\n",
    "\n",
    "Initialisez deux entiers : a = 0 et b = 10.\n",
    "Écrire une boucle affichant et incrémentant la valeur de a tant qu’elle reste inférieure\n",
    "à celle de b.\n",
    "Écrire une autre boucle décrémentant la valeur de b et affichant sa valeur si elle est\n",
    "impaire. Boucler tant que b n’est pas nul.\n"
   ]
  },
  {
   "cell_type": "code",
   "execution_count": 14,
   "id": "6e799b4b",
   "metadata": {},
   "outputs": [
    {
     "name": "stdout",
     "output_type": "stream",
     "text": [
      "9\n",
      "7\n",
      "5\n",
      "3\n",
      "1\n",
      "10 0\n"
     ]
    }
   ],
   "source": [
    "a,b = 0,10\n",
    "while a<b :\n",
    "    a+=1\n",
    "while b>0:\n",
    "    if b%2 == 1:\n",
    "        print(b)\n",
    "    b-=1\n",
    "print(a,b)"
   ]
  },
  {
   "cell_type": "markdown",
   "id": "0fa1d05a",
   "metadata": {},
   "source": [
    "### Exercice 3\n",
    "Écrire une saisie filtrée d’un entier dans l’intervalle 1 à 10, bornes comprises. Affichez\n",
    "la saisie."
   ]
  },
  {
   "cell_type": "code",
   "execution_count": 26,
   "id": "ed841f4a",
   "metadata": {},
   "outputs": [
    {
     "name": "stdout",
     "output_type": "stream",
     "text": [
      "15\n",
      "6\n"
     ]
    }
   ],
   "source": [
    "x = int(input())\n",
    "while (x<1 or x>10) :\n",
    "    x = int(input())   "
   ]
  },
  {
   "cell_type": "markdown",
   "id": "d22d09e3",
   "metadata": {},
   "source": [
    "### Exercice 4\n",
    "Affichez chaque caractère d’une chaîne en utilisant une boucle for.\n",
    "Affichez chaque élément d’une liste en utilisant une boucle for.\n"
   ]
  },
  {
   "cell_type": "code",
   "execution_count": 27,
   "id": "7c3df25c",
   "metadata": {},
   "outputs": [
    {
     "name": "stdout",
     "output_type": "stream",
     "text": [
      "J\n",
      "'\n",
      "a\n",
      "i\n",
      " \n",
      "l\n",
      "a\n",
      " \n",
      "s\n",
      "a\n",
      "u\n",
      "c\n",
      "i\n",
      "s\n",
      "s\n",
      "e\n",
      "4\n",
      "6\n",
      "78\n",
      "24\n",
      "2\n",
      "9\n",
      "47\n"
     ]
    }
   ],
   "source": [
    "for c in \"J'aime la saucisse\":\n",
    "    print(c)\n",
    "for n in [4,6,78,24,2,9,47]:\n",
    "    print(n)"
   ]
  },
  {
   "cell_type": "markdown",
   "id": "151a2f5d",
   "metadata": {},
   "source": [
    "### Exercice 5\n",
    "Affichez les entiers de 0 à 15 non compris, de trois en trois, en utilisant une boucle for\n",
    "et l’instruction range()."
   ]
  },
  {
   "cell_type": "code",
   "execution_count": 1,
   "id": "caabfe4e",
   "metadata": {},
   "outputs": [
    {
     "name": "stdout",
     "output_type": "stream",
     "text": [
      "0\n",
      "3\n",
      "6\n",
      "9\n",
      "12\n"
     ]
    }
   ],
   "source": [
    "for i in range(0,15,3):\n",
    "    print(i)"
   ]
  },
  {
   "cell_type": "markdown",
   "id": "86e79079",
   "metadata": {},
   "source": [
    "### Exercice 6\n",
    "Utilisez l’instruction break pour interrompre une boucle for d’affichage des entiers\n",
    "de 1 à 10 compris, lorsque la variable de boucle vaut 5.\n"
   ]
  },
  {
   "cell_type": "code",
   "execution_count": null,
   "id": "8c21559c",
   "metadata": {},
   "outputs": [],
   "source": []
  },
  {
   "cell_type": "markdown",
   "id": "23e11fca",
   "metadata": {},
   "source": [
    "### Exercice 7\n",
    "Utilisez l’instruction continue pour modifier une boucle for d’affichage de tous entiers de 1 à 10 compris, sauf lorsque la variable de boucle vaut 5."
   ]
  },
  {
   "cell_type": "code",
   "execution_count": 3,
   "id": "ebb8b5a7",
   "metadata": {},
   "outputs": [
    {
     "name": "stdout",
     "output_type": "stream",
     "text": [
      "Number is  0\n",
      "Number is  1\n",
      "Number is  2\n",
      "Number is  3\n",
      "Number is  4\n",
      "Number is  6\n",
      "Number is  7\n",
      "Number is  8\n",
      "Number is  9\n",
      "Number is  10\n",
      "1\n",
      "2\n",
      "3\n",
      "4\n",
      "5\n",
      "6\n",
      "7\n",
      "8\n",
      "9\n",
      "10\n"
     ]
    }
   ],
   "source": [
    "n = 0\n",
    "for n in range(11):\n",
    "    if n == 5:\n",
    "        continue\n",
    "\n",
    "    print('Number is ', n)"
   ]
  },
  {
   "cell_type": "markdown",
   "id": "3631e95e",
   "metadata": {},
   "source": [
    "### Exercice 8\n",
    "Afficher les 10 premiers nombres naturels en utilisant la boucle while Aide : boucle while en Python Sortie attendue : 1 2 3 4 5 6 7 8 9 10"
   ]
  },
  {
   "cell_type": "code",
   "execution_count": 2,
   "id": "490f3b18",
   "metadata": {},
   "outputs": [
    {
     "name": "stdout",
     "output_type": "stream",
     "text": [
      "1\n",
      "2\n",
      "3\n",
      "4\n",
      "5\n",
      "6\n",
      "7\n",
      "8\n",
      "9\n",
      "10\n"
     ]
    }
   ],
   "source": [
    "a=0\n",
    "while(a<10):\n",
    "    a+=1\n",
    "    print(a)"
   ]
  },
  {
   "cell_type": "markdown",
   "id": "621b33e2",
   "metadata": {},
   "source": [
    "### Exercice 9\n",
    "Ecrivez un programme pour imprimer la table de multiplication d'un nombre donné. Par exemple, num = 2, la sortie devrait être la suivante\n",
    "2 4 6 8 10 12 14 16 18 20\n",
    "\n",
    "Indice: Définir n =2 Utiliser la boucle for pour itérer les 10 premiers nombres Dans chaque itération, multiplier 2 par le nombre actuel.( p = n*i) Imprimer p"
   ]
  },
  {
   "cell_type": "code",
   "execution_count": 8,
   "id": "887fafed",
   "metadata": {},
   "outputs": [
    {
     "name": "stdout",
     "output_type": "stream",
     "text": [
      "7 x 0 = 0\n",
      "7 x 1 = 7\n",
      "7 x 2 = 14\n",
      "7 x 3 = 21\n",
      "7 x 4 = 28\n",
      "7 x 5 = 35\n",
      "7 x 6 = 42\n",
      "7 x 7 = 49\n",
      "7 x 8 = 56\n",
      "7 x 9 = 63\n",
      "7 x 10 = 70\n"
     ]
    }
   ],
   "source": [
    "def multiplicationTable(n):\n",
    "    for i in range(11):\n",
    "        print(n,\"x\",i,\"=\",n*i)\n",
    "multiplicationTable(7)"
   ]
  },
  {
   "cell_type": "markdown",
   "id": "29fe6657",
   "metadata": {},
   "source": [
    "### Exercice 10\n",
    "Compter le nombre total de chiffres dans un nombre Ecrivez un programme pour compter le nombre total de chiffres dans un nombre en utilisant une boucle while.\n",
    "\n",
    "Par exemple, le nombre est 75869, donc la sortie doit être 5.\n",
    "\n",
    "Indice: Définir le compteur = 0 Exécuter la boucle while jusqu'à ce que le nombre != 0 Dans chaque itération de la boucle Réduire le dernier chiffre du nombre en utilisant la division plancher ( nombre = nombre // 10) Incrémenter le compteur par 1 imprimer le compteur"
   ]
  },
  {
   "cell_type": "code",
   "execution_count": 9,
   "id": "6d048b6c",
   "metadata": {},
   "outputs": [
    {
     "name": "stdout",
     "output_type": "stream",
     "text": [
      "5\n"
     ]
    }
   ],
   "source": [
    "a=0\n",
    "n=75869\n",
    "while(n!=0):\n",
    "    a+=1\n",
    "    n //=10\n",
    "print(a)"
   ]
  },
  {
   "cell_type": "code",
   "execution_count": null,
   "id": "1123d00a",
   "metadata": {},
   "outputs": [],
   "source": []
  }
 ],
 "metadata": {
  "kernelspec": {
   "display_name": "Python 3 (ipykernel)",
   "language": "python",
   "name": "python3"
  },
  "language_info": {
   "codemirror_mode": {
    "name": "ipython",
    "version": 3
   },
   "file_extension": ".py",
   "mimetype": "text/x-python",
   "name": "python",
   "nbconvert_exporter": "python",
   "pygments_lexer": "ipython3",
   "version": "3.9.0"
  }
 },
 "nbformat": 4,
 "nbformat_minor": 5
}
