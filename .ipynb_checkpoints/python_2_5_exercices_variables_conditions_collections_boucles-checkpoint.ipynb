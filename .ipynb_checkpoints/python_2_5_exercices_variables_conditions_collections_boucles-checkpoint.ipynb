{
 "cells": [
  {
   "cell_type": "markdown",
   "metadata": {
    "id": "Hu-DQLCysvHt",
    "pycharm": {
     "name": "#%% md\n"
    }
   },
   "source": [
    "# Cours Python : Exercices 1\n",
    "\n",
    "- toc: false \n",
    "- badges: true\n",
    "- comments: false\n",
    "- categories: [Python-Novice, Python-Loops]\n",
    "- layout: post\n",
    "- permalink: /python/chapter/2/lesson/4/\n",
    "\n",
    "-Python\n",
    "    -Les boucles\n",
    "        -lesson = Les boucles"
   ]
  },
  {
   "cell_type": "markdown",
   "metadata": {
    "pycharm": {
     "name": "#%% md\n"
    }
   },
   "source": [
    "## Variables et Conditions :"
   ]
  },
  {
   "cell_type": "markdown",
   "metadata": {
    "pycharm": {
     "name": "#%% md\n"
    }
   },
   "source": [
    "#### Exercice 1\n",
    "Créez une variable nommée a et assignez lui la valeur 50"
   ]
  },
  {
   "cell_type": "code",
   "execution_count": null,
   "metadata": {
    "pycharm": {
     "is_executing": true,
     "name": "#%%\n"
    },
    "vscode": {
     "languageId": "plaintext"
    }
   },
   "outputs": [],
   "source": [
    "a = 50"
   ]
  },
  {
   "cell_type": "markdown",
   "metadata": {
    "pycharm": {
     "name": "#%% md\n"
    }
   },
   "source": [
    "#### Exercice 2\n",
    "\n",
    "Créez deux variables x et y et affichez leur somme"
   ]
  },
  {
   "cell_type": "code",
   "execution_count": null,
   "metadata": {
    "pycharm": {
     "is_executing": true,
     "name": "#%%\n"
    },
    "vscode": {
     "languageId": "plaintext"
    }
   },
   "outputs": [],
   "source": [
    "x = 2\n",
    "y = 3\n",
    "print(x+y)"
   ]
  },
  {
   "cell_type": "markdown",
   "metadata": {
    "pycharm": {
     "name": "#%% md\n"
    }
   },
   "source": [
    "#### Exercice 3\n",
    "\n",
    "Écrivez un programme Python pour attribuer des notes aux étudiants à la fin de l'année. Le programme doit effectuer les opérations suivantes :\n",
    "\n",
    "    - a) Demandez un numéro d'étudiant.\n",
    "    - b) Demandez la note de stage de l'élève.\n",
    "    - c) Demandez la note du test de l'élève.\n",
    "    - d) Calculez si la moyenne de l'étudiant jusqu'à présent est suffisamment élevée pour qu'il soit autorisé à passer l'examen. Si la moyenne des notes (stage et test) est inférieure à 40, l'étudiant devrait automatiquement obtenir une note F, et le programme devrait afficher la note et quitter sans effectuer les étapes suivantes.\n",
    "    - e) Demandez la note de l'examen de l'étudiant.\n",
    "    - f) Calculez la note finale de l'élève. Les notes de stage et du test comptent pour 25 % de la note finale chacune, et l'examen final devrait compter pour les 50 % restants.\n",
    "    - g) Calculez et affichez la note et la mention de l'élève, selon le tableau suivant :\n",
    "\n",
    "| note finale | mention |\n",
    "| ----------- | ----- |\n",
    "| 80 <= note <= 100 | A |\n",
    "| 70 <= note < 80 | B |\n",
    "| 60 <= note < 70 | C |\n",
    "| 50 <= manoterk < 60 | D |\n",
    "| note < 50 | E |"
   ]
  },
  {
   "cell_type": "code",
   "execution_count": null,
   "metadata": {
    "pycharm": {
     "is_executing": true,
     "name": "#%%\n"
    },
    "vscode": {
     "languageId": "plaintext"
    }
   },
   "outputs": [],
   "source": [
    "num = input(\"Entrez votre numéro d'étudiant\")\n",
    "grade_stage = int(input(\"Entrez votre note de stage\"))\n",
    "grade_test = int(input(\"Entrez la note d'élève\"))\n",
    "mean = (grade_stage + grade_test) / 2\n",
    "if mean<40 :\n",
    "    print(\"F\")\n",
    "else :\n",
    "    grade_exam = input(\"Entrez la note examen\")\n",
    "    final_grade = grade_stage + grade_test + grade_exam*2 /4\n",
    "    if final_grade >=80 :\n",
    "        print(final_grade + \"A\")\n",
    "    if final_grade >=70 and final_grade<80:\n",
    "        print(final_grade + \"B\")\n",
    "    if final_grade >=60 and final_grade<70 :\n",
    "        print(final_grade + \"C\")\n",
    "    if final_grade >=50 and final_grade<60 :\n",
    "        print(final_grade + \"D\")\n",
    "    if  final_grade<50 :\n",
    "        print(final_grade + \"E\")\n",
    "\n"
   ]
  },
  {
   "cell_type": "markdown",
   "metadata": {
    "pycharm": {
     "name": "#%% md\n"
    }
   },
   "source": [
    "## Collections :"
   ]
  },
  {
   "cell_type": "markdown",
   "metadata": {
    "pycharm": {
     "name": "#%% md\n"
    }
   },
   "source": [
    "### Exercice 4 :\n",
    " - 1) Créez la liste fruits contenant les éléments suivants : \"apple\", \"banana\" et \"cherry\".\n",
    " - 2) Affichez le deuxième élément de la liste\n",
    " - 3) Changez la valeur \"apple\" à \"kiwi\"\n",
    " - 4) Ajoutez l'élément \"orange\" à la liste\n",
    " - 5) Ajoutez l'élément \"lemon\" à la deuxième position de la liste\n",
    " - 6) Supprimez la valeur \"banana\" de la liste\n",
    " - 7) Selectionnez l'avant-dernier élément de la liste\n",
    " - 8) Affichez les 1er et 3ème éléments de la liste\n",
    " - 9) Affichez la taille de la liste"
   ]
  },
  {
   "cell_type": "code",
   "execution_count": null,
   "metadata": {
    "pycharm": {
     "is_executing": true,
     "name": "#%%\n"
    },
    "vscode": {
     "languageId": "plaintext"
    }
   },
   "outputs": [],
   "source": [
    "list =[\"apple\",\"banana\",\"cherry\"]\n",
    "print(list[1])\n",
    "list[0] = \"kiwi\"\n",
    "list.append(\"orange\")\n",
    "list.insert(1,\"lemon\")\n",
    "list.remove(\"banana\")\n",
    "print(list[-2])\n",
    "print(list[0],list[2])\n",
    "print(len(list))"
   ]
  },
  {
   "cell_type": "markdown",
   "metadata": {
    "pycharm": {
     "name": "#%% md\n"
    }
   },
   "source": [
    "### Exercice 5 :\n",
    "\n",
    "\n",
    " - 1) Créez une liste `a` qui contient les trois premiers entiers positifs impairs et une liste `b` qui contient les trois premiers entiers positifs pairs.\n",
    " - 2) Créez une nouvelle liste `c` qui combine les nombres des deux listes (l'ordre n'a pas d'importance).\n",
    " - 3) Créez une nouvelle liste `d` qui est une copie triée de `c`, en laissant `c` inchangé.\n",
    " - 4) Inversez `d`.\n",
    " - 5) Définissez le 4ème élément de `c` comme étant 42.\n",
    " - 5) Ajoutez 10 à la fin de `d`.\n",
    " - 6) Ajoutez 7, 8 et 9 à la fin du `c`.\n",
    " - 7) Affichez les trois premiers éléments de `c`.\n",
    " - 8) Affichez le dernier élément de `d` sans utiliser sa longueur.\n",
    " - 9) Affichez la longueur de `d`."
   ]
  },
  {
   "cell_type": "code",
   "execution_count": null,
   "metadata": {
    "pycharm": {
     "is_executing": true,
     "name": "#%%\n"
    },
    "vscode": {
     "languageId": "plaintext"
    }
   },
   "outputs": [],
   "source": [
    "a = [1,3,5]\n",
    "b = [2,4,6]\n",
    "c = a + b\n",
    "d = sorted(c)\n",
    "d.reverse()\n",
    "c[3] = 42\n",
    "d.append(10)\n",
    "c.append([7,8,9])\n",
    "print(c[0],c[1],c[2])\n",
    "print(d[-1])\n",
    "print(len(d))\n",
    "\n"
   ]
  },
  {
   "cell_type": "markdown",
   "metadata": {
    "pycharm": {
     "name": "#%% md\n"
    }
   },
   "source": [
    " ### Exercice 6 :\n",
    "\n",
    "- 1) Créez un tuple a qui contient les quatre premiers entiers positifs et un tuple `b` qui contient les quatre entiers positifs suivants.\n",
    "- 2) Créez un tuple c qui combine tous les nombres de `a` et `b` dans n'importe quel ordre.\n",
    "- 3) Créez un tuple d qui est une copie triée de `c`.\n",
    "- 4) Affichez le troisième élément de `d`.\n",
    "- 5) Affichez les trois derniers éléments de `d` sans utiliser sa longueur.\n",
    "- 6) Affichez la longueur de `d`."
   ]
  },
  {
   "cell_type": "code",
   "execution_count": null,
   "metadata": {
    "pycharm": {
     "is_executing": true,
     "name": "#%%\n"
    },
    "vscode": {
     "languageId": "plaintext"
    }
   },
   "outputs": [],
   "source": [
    "a = (1,2,3,4)\n",
    "b = (5,6,7,8)\n",
    "c = a + b\n",
    "d = c\n",
    "print(d)\n",
    "print(d[-3:])\n",
    "print(len(d))"
   ]
  },
  {
   "cell_type": "markdown",
   "metadata": {
    "pycharm": {
     "name": "#%% md\n"
    }
   },
   "source": [
    "### Exercice 7 :\n",
    "\n",
    " - 1) Créez un ensemble `a` qui contient les quatre premiers entiers positifs et un ensemble `b` qui contient les quatre premiers entiers positifs impairs.\n",
    " - 2) Créez un ensemble `c` qui combine tous les nombres qui sont dans `a` ou `b` (ou les deux).\n",
    " - 3) Créez un ensemble `d` qui contient tous les nombres de `a` mais pas de `b`.\n",
    " - 4) Créez un ensemble `e` qui contient tous les nombres de `b` mais pas de `a`.\n",
    " - 5) Créez un ensemble `f` qui contient tous les nombres qui sont à la fois dans `a` et dans `b`.\n",
    " - 6) Créez un ensemble `g` qui contient tous les nombres qui sont soit dans `a` soit dans `b` mais pas dans les deux.\n",
    " - 7) Affichez le nombre d'éléments dans `c`."
   ]
  },
  {
   "cell_type": "code",
   "execution_count": null,
   "metadata": {
    "pycharm": {
     "is_executing": true,
     "name": "#%%\n"
    },
    "vscode": {
     "languageId": "plaintext"
    }
   },
   "outputs": [],
   "source": [
    "a = {1,2,3,4}\n",
    "b = {2,4,6,8}\n",
    "c = a.union(b)\n",
    "d = a.difference(b)\n",
    "e = b.difference(a)\n",
    "f = a&b\n",
    "g = a^b\n",
    "print(len(c))"
   ]
  },
  {
   "cell_type": "markdown",
   "metadata": {
    "pycharm": {
     "name": "#%% md\n"
    }
   },
   "source": [
    "### Exercice 8 :\n",
    "\n",
    " - 1) Créez un range `a` qui commence à partir de 0 et s'étend sur 20 nombres.\n",
    " - 2) Créez un range `b` qui commence à partir de 3 et se termine à 12.\n",
    " - 3) Créez un range `c` qui contient un entier sur trois commençant à 2 et se terminant à 50."
   ]
  },
  {
   "cell_type": "code",
   "execution_count": null,
   "metadata": {
    "pycharm": {
     "is_executing": true,
     "name": "#%%\n"
    },
    "vscode": {
     "languageId": "plaintext"
    }
   },
   "outputs": [],
   "source": [
    "a = range(20)\n",
    "b = range(3,13)\n",
    "c = range(2,51,3)"
   ]
  },
  {
   "cell_type": "markdown",
   "metadata": {
    "pycharm": {
     "name": "#%% md\n"
    }
   },
   "source": [
    "### Exercice 9 :\n",
    "\n",
    " - 1) Créez un `dict` qui stocke les numéros de téléphone (sous forme de valeurs de chaîne) et remplissez-le avec ces paires clé-valeur :\n",
    "\n",
    "| Name | Telephone number |\n",
    "| ---- | ---------------- |\n",
    "| Jane Doe | +27 555 5367 |\n",
    "| John Smith | +27 555 6254 |\n",
    "| Bob Stone | +27 555 5689 |\n",
    "\n",
    " - 2) Changez le numéro de Jane en +27 555 1024\n",
    " - 3) Ajouter une nouvelle entrée pour une personne appelée Anna Cooper avec le numéro de téléphone +27 555 3237\n",
    " - 4) Affichez le numéro de Bob.\n",
    " - 5) Affichez le numéro de Bob de manière à ce que Aucun ne soit imprimé si le nom de Bob n'était pas dans le dictionnaire.\n",
    " - 6) Affichez toutes les clés. Le format n'a pas d'importance, tant qu'ils sont tous visibles.\n",
    " - 7) Affichez toutes les valeurs."
   ]
  },
  {
   "cell_type": "code",
   "execution_count": null,
   "metadata": {
    "pycharm": {
     "is_executing": true,
     "name": "#%%\n"
    },
    "vscode": {
     "languageId": "plaintext"
    }
   },
   "outputs": [],
   "source": [
    "dictionnaire = {\n",
    "    \"name\" :\"Jane Doe\"\"John Smith\"\"Bob Stone\",\n",
    "    \"Telephone number\":\"+27 555 5367\"\"+27 555 6254\"\"+27 555 5689\"\n",
    "}\n",
    "print(dictionnaire)"
   ]
  },
  {
   "cell_type": "markdown",
   "metadata": {
    "pycharm": {
     "name": "#%% md\n"
    }
   },
   "source": [
    "### Exercice 10 :\n",
    "\n",
    "- 1) Convertissez une liste qui contient les nombres 1, 1, 2, 3 et 3, et convertissez-la en un tuple `a`.\n",
    "- 2) Convertir `a` en liste `b`. Affichez sa longueur.\n",
    "- 3) Convertir `b` en `set` `c`. Affichez sa longueur.\n",
    "- 4) Convertir `c` en liste `d`. Affichez sa longueur.\n",
    "- 5) Créez un `range` qui commence à 1 et se termine à 10. Convertissez-la en liste `e`.\n",
    "- 6) Créez le dictionnaire de l'exercice précédent. Créez une liste `t` qui contient toutes les paires clé-valeur du dictionnaire sous forme de tuples.\n",
    "- 7) Créez une liste `v` de toutes les valeurs du dictionnaire.\n",
    "- 8) Créez une liste `k` de toutes les clés du dictionnaire.\n",
    "- 9) Créez une chaîne `s` contenant le mot « antidisestablishmentarianism ». Utilisez la fonction `sorted` dessus. Quel est le type de sortie ? Concaténez les lettres de la sortie dans une chaîne `s2`.\n",
    "- 10) Divisez la chaîne \"le renard brun rapide a sauté par-dessus le chien paresseux\" en une liste `w` de mots individuels."
   ]
  },
  {
   "cell_type": "code",
   "execution_count": null,
   "metadata": {
    "pycharm": {
     "is_executing": true,
     "name": "#%%\n"
    },
    "vscode": {
     "languageId": "plaintext"
    }
   },
   "outputs": [],
   "source": [
    "l = [1,1,2,3,3]\n",
    "a = tuple(l)\n",
    "b = list(a)\n",
    "print(len(b))\n",
    "c = set(b)\n",
    "print(len(c))\n",
    "d = list(c)\n",
    "print(len(d))\n",
    "r = range(1,11)\n",
    "e = list(r)\n"
   ]
  },
  {
   "cell_type": "markdown",
   "metadata": {
    "pycharm": {
     "name": "#%% md\n"
    }
   },
   "source": [
    "### Exercice 11\n",
    "\n",
    " - 1) Créez une liste `a` qui contient trois tuples. Le premier tuple doit contenir un seul élément, le deuxième deux éléments et le troisième trois éléments.\n",
    " - 2) Afficher le deuxième élément du deuxième élément de `a`.\n",
    " - 3) Créez une liste `b` qui contient quatre listes, chacune contenant quatre éléments.\n",
    " - 4) Affichez les deux derniers éléments du premier élément de `b`."
   ]
  },
  {
   "cell_type": "code",
   "execution_count": null,
   "metadata": {
    "pycharm": {
     "is_executing": true,
     "name": "#%%\n"
    },
    "vscode": {
     "languageId": "plaintext"
    }
   },
   "outputs": [],
   "source": [
    "a = [(1),(2,3),(1,2,3)]\n",
    "print(a[1][1])\n",
    "b = [[1,2,3,4],[5,6,7,8],[9,10,11,12],[13,14,15,16]]\n",
    "print(b[0][-2:])"
   ]
  },
  {
   "cell_type": "markdown",
   "metadata": {
    "pycharm": {
     "name": "#%% md\n"
    }
   },
   "source": [
    "## Boucles\n",
    "\n",
    "### Exercice 12 :\n",
    "\n",
    " - 1) Écrivez un programme qui utilise une boucle `while` pour additionner les carrés d'entiers (à partir de 1) jusqu'à ce que le total dépasse 200. Affichez le total final et le dernier nombre à mettre au carré et ajouter.\n",
    " - 2) Ecrivez un programme qui demande à l'utilisateur de deviner un mot. L'utilisateur a jusqu'à dix suppositions – écrivez votre code de telle sorte que le mot secret et le nombre de suppositions autorisées soient faciles à modifier. Affichez des messages pour donner votre avis à l'utilisateur."
   ]
  },
  {
   "cell_type": "code",
   "execution_count": null,
   "metadata": {
    "pycharm": {
     "is_executing": true,
     "name": "#%%\n"
    },
    "vscode": {
     "languageId": "plaintext"
    }
   },
   "outputs": [],
   "source": [
    "#1\n",
    "c = 1\n",
    "s = 0\n",
    "while s <200 :\n",
    "    s = s + c*c\n",
    "    c=c+1\n",
    "print(s,c,s+c*c)\n",
    "\n",
    "#2\n",
    "mot = \"secret\"\n",
    "for i in range(0,10):\n",
    "    guess = input(\"Esssayer de deviner le mot\\n\")\n",
    "    if mot == guess:\n",
    "        print(\"Bravo c'est gagné\")\n",
    "        break\n"
   ]
  },
  {
   "cell_type": "markdown",
   "metadata": {
    "pycharm": {
     "name": "#%% md\n"
    }
   },
   "source": [
    "### Exercice 13 :\n",
    "\n",
    " - 1) Écrivez un programme qui additionne les nombres entiers de 1 à 10 en utilisant une boucle `for` (et affiche le total à la fin).\n",
    " - 2) Pouvez-vous penser à un moyen de le faire sans utiliser de boucle ?\n",
    " - 3) Écrire un programme qui trouve la factorielle d'un nombre donné. Par exemple. 3 factoriel, ou `3!` est égal à `3 x 2 x 1`; `5!` est égal à `5 ​​x 4 x 3 x 2 x 1`, etc. Votre programme ne doit contenir qu'une seule boucle.\n",
    " - 4) Écrivez un programme qui demande à l'utilisateur 10 nombres à virgule flottante et calcule leur somme, leur produit et leur moyenne. Votre programme ne doit contenir qu'une seule boucle.\n",
    " - 5) Réécrivez le programme précédent pour qu'il ait deux boucles, une qui collecte et stocke les nombres, et une qui les traite."
   ]
  },
  {
   "cell_type": "code",
   "execution_count": null,
   "metadata": {
    "pycharm": {
     "is_executing": true,
     "name": "#%%\n"
    },
    "vscode": {
     "languageId": "plaintext"
    }
   },
   "outputs": [],
   "source": [
    "s = 0\n",
    "for i in range(1,11):\n",
    "    s = s+i\n",
    "print(s)\n",
    "def factorielle(n):\n",
    "    if n == 0:\n",
    "        return 1\n",
    "    else:\n",
    "        return n  * factorielle(n-1)\n",
    "print(factorielle(3))\n",
    "somme = 0\n",
    "produit = 1\n",
    "def calcul():\n",
    "    somme = 0\n",
    "    produit = 1\n",
    "    for i in range(0,10):\n",
    "        n = float(input(\"Entrez un nombre à virgule\"))\n",
    "        somme = somme + n\n",
    "        produit = produit * n\n",
    "    moyenne = somme/10\n",
    "    print(somme,produit,moyenne)\n",
    "calcul()"
   ]
  },
  {
   "cell_type": "markdown",
   "metadata": {
    "pycharm": {
     "name": "#%% md\n"
    }
   },
   "source": [
    " ### Exercice 14\n",
    "\n",
    " - 1) Ecrivez un programme qui utilise une boucle `for` imbriquée pour remplir une liste tridimensionnelle représentant un calendrier : la liste de niveau supérieur doit contenir une sous-liste pour chaque mois, et chaque mois doit contenir quatre semaines. Chaque semaine doit être une liste vide.\n",
    " - 2) Modifiez votre code pour faciliter l'accès à un mois dans le calendrier par un nom de mois lisible par l'homme. Faire de même pour les semaines par un nom qui est numéroté à partir de 1. Ajoutez un événement (sous la forme d'une chaîne de description) à la deuxième semaine de juillet."
   ]
  },
  {
   "cell_type": "code",
   "execution_count": null,
   "metadata": {
    "pycharm": {
     "is_executing": true,
     "name": "#%%\n"
    },
    "vscode": {
     "languageId": "plaintext"
    }
   },
   "outputs": [],
   "source": [
    "calendar = []\n",
    "\n",
    "for m in range(12):\n",
    "    month = []\n",
    "\n",
    "    for w in range(4):\n",
    "        month.append([])\n",
    "\n",
    "    calendar.append(month)\n",
    "\n",
    "    \n",
    "(JANUARY, FEBRUARY, MARCH, APRIL, MAY, JUNE, JULY, AUGUST,\n",
    "SEPTEMBER, OCTOBER, NOVEMBER, DECEMBER) = range(12)\n",
    "\n",
    "(WEEK_1, WEEK_2, WEEK_3, WEEK_4) = range(4)\n",
    "\n",
    "calendar[JULY][WEEK_2].append(\"Vacances\")"
   ]
  },
  {
   "cell_type": "markdown",
   "metadata": {
    "pycharm": {
     "name": "#%% md\n"
    }
   },
   "source": [
    "### Exercice 15 :\n",
    "\n",
    "- 1) Créez un tuple de noms de mois et un tuple du nombre de jours de chaque mois (supposez que février a 28 jours). En utilisant une seule boucle `for`, construisez un dictionnaire qui a les noms de mois comme clés et les numéros de jour correspondants comme valeurs.\n",
    "- 2) Faites maintenant la même chose sans utiliser de boucle `for`."
   ]
  },
  {
   "cell_type": "code",
   "execution_count": null,
   "metadata": {
    "pycharm": {
     "is_executing": true,
     "name": "#%%\n"
    },
    "vscode": {
     "languageId": "plaintext"
    }
   },
   "outputs": [],
   "source": [
    "months = (\"January\", \"February\", \"March\", \"April\", \"May\", \"June\",\n",
    "          \"July\", \"August\", \"September\", \"October\",\n",
    "          \"November\", \"December\")\n",
    "\n",
    "num_days = (31, 28, 31, 30, 31, 30, 31, 31, 30, 31, 30, 31)\n",
    "\n",
    "month_dict = {}\n",
    "\n",
    "for month, days in zip(months, days):\n",
    "    month_dict[month] = days\n",
    "    \n",
    "    \n",
    "    \n",
    "    \n",
    "    \n",
    "months = (\"January\", \"February\", \"March\", \"April\", \"May\", \"June\",\n",
    "          \"July\", \"August\", \"September\", \"October\",\n",
    "          \"November\", \"December\")\n",
    "\n",
    "num_days = (31, 28, 31, 30, 31, 30, 31, 31, 30, 31, 30, 31)\n",
    "\n",
    "month_dict = dict(zip(months, days))\n",
    "    "
   ]
  },
  {
   "cell_type": "markdown",
   "metadata": {
    "pycharm": {
     "name": "#%% md\n"
    }
   },
   "source": [
    "### Exercice 15 bis\n",
    "\n",
    " - 1) Créez une `string` qui contient les dix premiers entiers positifs séparés par des virgules et des espaces. N'oubliez pas que vous ne pouvez pas joindre des nombres - vous devez d'abord les convertir en `string`. Affichez la `string`.\n",
    " - 2) Réécrivez le programme calendaire en utilisant des compréhensions imbriquées au lieu de boucles imbriquées. Essayez d'ajouter une chaîne à l'une des listes de semaines, pour vous assurer que vous n'avez pas réutilisé la même liste au lieu de créer une liste distincte pour chaque semaine.\n",
    " - 3) Faites maintenant quelque chose de similaire pour créer un calendrier qui est une liste avec 52 sous-listes vides (une pour chaque semaine de l'année entière). Astuce : comment modifieriez-vous les boucles `for` imbriquées ?"
   ]
  },
  {
   "cell_type": "code",
   "execution_count": null,
   "metadata": {
    "pycharm": {
     "is_executing": true,
     "name": "#%%\n"
    },
    "vscode": {
     "languageId": "plaintext"
    }
   },
   "outputs": [],
   "source": [
    "number_string = \", \".join(str(n) for n in range(1, 11))\n",
    "print(number_string)\n",
    "\n",
    "calendar = [[[] for w in range(4)] for m in range(12)]\n",
    "\n",
    "(JANUARY, FEBRUARY, MARCH, APRIL, MAY, JUNE, JULY, AUGUST,\n",
    "SEPTEMBER, OCTOBER, NOVEMBER, DECEMBER) = range(12)\n",
    "\n",
    "(WEEK_1, WEEK_2, WEEK_3, WEEK_4) = range(4)\n",
    "\n",
    "calendar[JULY][WEEK_2].append(\"Vacances\")\n",
    "                              \n",
    "                              \n",
    "calendar = [[] for w in range(4) for m in range(12)]\n"
   ]
  },
  {
   "cell_type": "markdown",
   "metadata": {
    "pycharm": {
     "name": "#%% md\n"
    }
   },
   "source": [
    "### Exercice 16\n",
    "\n",
    "- 1) Ecrivez un programme qui demande à plusieurs reprises à l'utilisateur un nombre entier. Si l'entier est pair, affichez le. Si l'entier est impair, n'affichez rien. Quittez le programme si l'utilisateur entre l'entier 99.\n",
    "\n",
    " Certains programmes demandent à l'utilisateur d'entrer un nombre variable d'entrées de données, et enfin d'entrer un caractère ou une chaîne spécifique qui signifie qu'il n'y a plus d'entrées. Par exemple, vous pourriez être invité à entrer votre code PIN suivi d'un dièse (#). Le dièse indique que vous avez fini de saisir votre code PIN.\n",
    "\n",
    " - 2) Écrire un programme qui fait la moyenne des nombres entiers positifs. Votre programme doit inviter l'utilisateur à entrer des entiers jusqu'à ce que l'utilisateur entre un entier négatif. L'entier négatif doit être ignoré et vous devez imprimer la moyenne de tous les entiers précédemment entrés.\n",
    "\n",
    " - 3) Implémentez une calculatrice simple avec un menu. Affichez les options suivantes à l'utilisateur, demandez une sélection et effectuez l'action demandée (par exemple, demandez deux chiffres et ajoutez-les). Après chaque opération, retournez l'utilisateur au menu. Quittez le programme lorsque l'utilisateur sélectionne 0. Si l'utilisateur entre un nombre qui n'est pas dans le menu, ignorez l'entrée et réaffichez le menu. Vous pouvez supposer que l'utilisateur entrera un entier valide :\n",
    " \n",
    " -- Menu Calculatrice --\n",
    "0. Quitter\n",
    "1. Somme de deux nombres\n",
    "2. Soustraction de deux nombres\n",
    "3. Multiplication de deux nombres\n",
    "4. Division de deux nombres"
   ]
  },
  {
   "cell_type": "code",
   "execution_count": null,
   "metadata": {
    "pycharm": {
     "is_executing": true,
     "name": "#%%\n"
    },
    "vscode": {
     "languageId": "plaintext"
    }
   },
   "outputs": [],
   "source": [
    "while(1):\n",
    "    a = int(input(\"Entrez un entier\"))\n",
    "    if(a==99):\n",
    "        break\n",
    "    elif(a%2==0):\n",
    "        print(a)\n",
    "b=0\n",
    "a=[]\n",
    "c=0\n",
    "while(1):\n",
    "    a.append(int(input(\"Entrez un entier\")))\n",
    "    if(a[b]<0):\n",
    "        if(b==0):\n",
    "            break\n",
    "        for i in range(b-1):\n",
    "            c+=a[b]\n",
    "        c=c/b\n",
    "        print(c)\n",
    "        break\n",
    "    b+=1\n",
    "\n",
    "while(1):\n",
    "    a = int(input(\"-- Menu Calculatrice -- \\n 0. Quitter\\n 1. Somme de deux nombres\\n 2. Soustraction de deux nombres \\n3. Multiplication de deux nombres \\n 4. Division de deux nombres\"))\n",
    "    if(a==0):\n",
    "        break\n",
    "    elif(a==1):\n",
    "        b = int(input(\"entrez votre premier entier\"))\n",
    "        bb = int(input(\"entrez votre deuxieme  entier\"))\n",
    "        print('Lasomme est ',b+bb)\n",
    "    elif(a==2):\n",
    "        b = int(input(\"entrez votre premier entier\"))\n",
    "        bb = int(input(\"entrez votre deuxieme  entier\"))\n",
    "        print('Lasomme est ',b-bb)\n",
    "    elif(a==3):\n",
    "        b = int(input(\"entrez votre premier entier\"))\n",
    "        bb = int(input(\"entrez votre deuxieme  entier\"))\n",
    "        print('Lasomme est ',b*bb)\n",
    "    elif(a==4):\n",
    "        b = int(input(\"entrez votre premier entier\"))\n",
    "        bb = int(input(\"entrez votre deuxieme  entier\"))\n",
    "        if(bb==0):\n",
    "            print('On ne peux pas diviser par 0')\n",
    "        else:\n",
    "            print('Lasomme est ',b/bb)"
   ]
  },
  {
   "cell_type": "markdown",
   "metadata": {
    "pycharm": {
     "name": "#%% md\n"
    }
   },
   "source": [
    "### Exercice 17\n",
    "\n",
    "person = {}\n",
    "```\n",
    "for prop in [\"name\", \"surname\", \"age\", \"height\", \"weight\"]:\n",
    "    person[prop] = input(\"Please enter your %s: \" % prop)\n",
    "```\n",
    "\n",
    " - Modifiez l'exemple ci-dessus pour inclure la conversion de type des propriétés : l'âge doit être un nombre entier, la taille et le poids doivent être des nombres flottants, et le nom et le prénom doivent être des `string`."
   ]
  },
  {
   "cell_type": "code",
   "execution_count": null,
   "metadata": {
    "pycharm": {
     "is_executing": true,
     "name": "#%%\n"
    },
    "vscode": {
     "languageId": "plaintext"
    }
   },
   "outputs": [],
   "source": [
    "person = {}\n",
    "\n",
    "for prop in [\"name\", \"surname\", \"age\", \"height\", \"weight\"]:\n",
    "    person[prop] = input(\"Please enter your %s: \" % prop)\n",
    "    \n",
    "person[\"name\"]=str(person[\"name\"])\n",
    "person[\"surname\"]=str(person[\"surname\"])\n",
    "person[\"age\"]=int(person[\"age\"])\n",
    "person[\"height\"]=float(person[\"height\"])\n",
    "person[\"weight\"]=float(person[\"weight\"])\n",
    "\n",
    "for prop in [\"name\", \"surname\", \"age\", \"height\", \"weight\"]:\n",
    "    print(type(person[prop]))"
   ]
  }
 ],
 "metadata": {
  "colab": {
   "name": "2021-07-07-React-C1-lesson1.ipynb",
   "provenance": []
  },
  "interpreter": {
   "hash": "5f93c710f340a2e31cff3bb6ebdbfdc2ef47a25bab77ef50e9e25900c31fe89f"
  },
  "kernelspec": {
   "display_name": "Python 3 (ipykernel)",
   "language": "python",
   "name": "python3"
  },
  "language_info": {
   "codemirror_mode": {
    "name": "ipython",
    "version": 3
   },
   "file_extension": ".py",
   "mimetype": "text/x-python",
   "name": "python",
   "nbconvert_exporter": "python",
   "pygments_lexer": "ipython3",
   "version": "3.9.0"
  },
  "varInspector": {
   "cols": {
    "lenName": 16,
    "lenType": 16,
    "lenVar": 40
   },
   "kernels_config": {
    "python": {
     "delete_cmd_postfix": "",
     "delete_cmd_prefix": "del ",
     "library": "var_list.py",
     "varRefreshCmd": "print(var_dic_list())"
    },
    "r": {
     "delete_cmd_postfix": ") ",
     "delete_cmd_prefix": "rm(",
     "library": "var_list.r",
     "varRefreshCmd": "cat(var_dic_list()) "
    }
   },
   "types_to_exclude": [
    "module",
    "function",
    "builtin_function_or_method",
    "instance",
    "_Feature"
   ],
   "window_display": false
  }
 },
 "nbformat": 4,
 "nbformat_minor": 2
}
